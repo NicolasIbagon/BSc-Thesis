{
  "cells": [
    {
      "cell_type": "code",
      "execution_count": null,
      "id": "f7d05753",
      "metadata": {
        "id": "f7d05753"
      },
      "outputs": [],
      "source": [
        "#pip install gensim"
      ]
    },
    {
      "cell_type": "code",
      "execution_count": 3,
      "id": "3a8f7745",
      "metadata": {
        "id": "3a8f7745",
        "colab": {
          "base_uri": "https://localhost:8080/"
        },
        "outputId": "a5ceabaa-225b-4032-d16c-bc09b8b56f39"
      },
      "outputs": [
        {
          "output_type": "stream",
          "name": "stdout",
          "text": [
            "Looking in indexes: https://pypi.org/simple, https://us-python.pkg.dev/colab-wheels/public/simple/\n",
            "Collecting pulearn\n",
            "  Downloading pulearn-0.0.7-py3-none-any.whl (16 kB)\n",
            "Requirement already satisfied: scikit-learn in /usr/local/lib/python3.7/dist-packages (from pulearn) (1.0.2)\n",
            "Requirement already satisfied: numpy in /usr/local/lib/python3.7/dist-packages (from pulearn) (1.21.6)\n",
            "Requirement already satisfied: six in /usr/local/lib/python3.7/dist-packages (from pulearn) (1.15.0)\n",
            "Requirement already satisfied: joblib>=0.11 in /usr/local/lib/python3.7/dist-packages (from scikit-learn->pulearn) (1.1.0)\n",
            "Requirement already satisfied: scipy>=1.1.0 in /usr/local/lib/python3.7/dist-packages (from scikit-learn->pulearn) (1.7.3)\n",
            "Requirement already satisfied: threadpoolctl>=2.0.0 in /usr/local/lib/python3.7/dist-packages (from scikit-learn->pulearn) (3.1.0)\n",
            "Installing collected packages: pulearn\n",
            "Successfully installed pulearn-0.0.7\n"
          ]
        }
      ],
      "source": [
        "pip install pulearn"
      ]
    },
    {
      "cell_type": "code",
      "execution_count": null,
      "id": "db3e28eb",
      "metadata": {
        "id": "db3e28eb"
      },
      "outputs": [],
      "source": [
        "#pip install imblearn"
      ]
    },
    {
      "cell_type": "code",
      "execution_count": null,
      "id": "1b544381",
      "metadata": {
        "id": "1b544381"
      },
      "outputs": [],
      "source": [
        "#pip install -U octis"
      ]
    },
    {
      "cell_type": "code",
      "execution_count": 2,
      "id": "d77ce4c5",
      "metadata": {
        "id": "d77ce4c5"
      },
      "outputs": [],
      "source": [
        "import matplotlib.pyplot as plt\n",
        "import numpy as np\n",
        "import pandas as pd\n",
        "import networkx as nx\n",
        "import csv\n",
        "from sys import stdin\n",
        "from networkx.algorithms.community import greedy_modularity_communities\n",
        "from networkx.algorithms.community import k_clique_communities\n",
        "from networkx.algorithms.community import asyn_lpa_communities\n",
        "from networkx.algorithms.community import modularity\n",
        "#from cdlib import algorithms, readwrite, viz\n",
        "from sklearn.manifold import TSNE\n",
        "from sklearn.model_selection import train_test_split\n",
        "from sklearn.linear_model import LogisticRegressionCV\n",
        "from sklearn.metrics import accuracy_score\n",
        "from gensim.models import Word2Vec\n",
        "from sklearn import preprocessing\n",
        "import sklearn.metrics as sk_metrics\n",
        "import seaborn as sns"
      ]
    },
    {
      "cell_type": "code",
      "execution_count": 5,
      "id": "a77ed6af",
      "metadata": {
        "id": "a77ed6af"
      },
      "outputs": [],
      "source": [
        "import gensim\n",
        "model = gensim.models.KeyedVectors.load_word2vec_format('resultado_pecanpy.emb')"
      ]
    },
    {
      "cell_type": "code",
      "execution_count": null,
      "id": "be7403a7",
      "metadata": {
        "id": "be7403a7"
      },
      "outputs": [],
      "source": [
        "#print(model)"
      ]
    },
    {
      "cell_type": "code",
      "execution_count": 6,
      "id": "190c02b0",
      "metadata": {
        "id": "190c02b0",
        "outputId": "0f5f0f67-8e05-444f-9923-e8dd204e097a",
        "colab": {
          "base_uri": "https://localhost:8080/"
        }
      },
      "outputs": [
        {
          "output_type": "stream",
          "name": "stdout",
          "text": [
            "[[ 1.51634648e-01  1.30616743e-02  4.85435501e-03 ... -1.63539022e-01\n",
            "   1.70814499e-01 -1.81490183e-01]\n",
            " [-1.11903157e-02 -2.51307338e-01  2.74289966e-01 ...  1.05302684e-01\n",
            "   1.04468845e-01 -1.84717819e-01]\n",
            " [ 1.54857546e-01  2.50112353e-04 -2.00281814e-01 ... -2.81648755e-01\n",
            "   7.66551346e-02 -4.25969929e-01]\n",
            " ...\n",
            " [ 6.42811432e-02  2.53454433e-03  3.39263603e-02 ... -1.07834823e-01\n",
            "   1.46189019e-01 -1.41999722e-01]\n",
            " [ 4.69204336e-02 -1.00002643e-02  6.96792603e-02 ... -1.50781095e-01\n",
            "   1.73385471e-01 -1.57344654e-01]\n",
            " [ 3.73166762e-02  6.81981118e-03  6.76245019e-02 ... -1.10466123e-01\n",
            "   7.58624449e-02 -1.95623890e-01]]\n"
          ]
        }
      ],
      "source": [
        "node_embeddings = (model.vectors)\n",
        "print(node_embeddings)"
      ]
    },
    {
      "cell_type": "code",
      "execution_count": 7,
      "id": "8d91e593",
      "metadata": {
        "id": "8d91e593",
        "outputId": "d999f9fc-b80d-4fe9-bec6-354b8bd7bd4a",
        "colab": {
          "base_uri": "https://localhost:8080/",
          "height": 424
        }
      },
      "outputs": [
        {
          "output_type": "execute_result",
          "data": {
            "text/plain": [
              "              Id  Colorrectal\n",
              "0           7316            0\n",
              "1           2624            1\n",
              "2           2033            0\n",
              "3          10664            0\n",
              "4           7157            1\n",
              "...          ...          ...\n",
              "17779     139221            0\n",
              "17780      57636            0\n",
              "17781     286749            0\n",
              "17782  105375355            0\n",
              "17783  111240474            0\n",
              "\n",
              "[17784 rows x 2 columns]"
            ],
            "text/html": [
              "\n",
              "  <div id=\"df-1a21f6e9-7897-478d-8fce-07affa701a94\">\n",
              "    <div class=\"colab-df-container\">\n",
              "      <div>\n",
              "<style scoped>\n",
              "    .dataframe tbody tr th:only-of-type {\n",
              "        vertical-align: middle;\n",
              "    }\n",
              "\n",
              "    .dataframe tbody tr th {\n",
              "        vertical-align: top;\n",
              "    }\n",
              "\n",
              "    .dataframe thead th {\n",
              "        text-align: right;\n",
              "    }\n",
              "</style>\n",
              "<table border=\"1\" class=\"dataframe\">\n",
              "  <thead>\n",
              "    <tr style=\"text-align: right;\">\n",
              "      <th></th>\n",
              "      <th>Id</th>\n",
              "      <th>Colorrectal</th>\n",
              "    </tr>\n",
              "  </thead>\n",
              "  <tbody>\n",
              "    <tr>\n",
              "      <th>0</th>\n",
              "      <td>7316</td>\n",
              "      <td>0</td>\n",
              "    </tr>\n",
              "    <tr>\n",
              "      <th>1</th>\n",
              "      <td>2624</td>\n",
              "      <td>1</td>\n",
              "    </tr>\n",
              "    <tr>\n",
              "      <th>2</th>\n",
              "      <td>2033</td>\n",
              "      <td>0</td>\n",
              "    </tr>\n",
              "    <tr>\n",
              "      <th>3</th>\n",
              "      <td>10664</td>\n",
              "      <td>0</td>\n",
              "    </tr>\n",
              "    <tr>\n",
              "      <th>4</th>\n",
              "      <td>7157</td>\n",
              "      <td>1</td>\n",
              "    </tr>\n",
              "    <tr>\n",
              "      <th>...</th>\n",
              "      <td>...</td>\n",
              "      <td>...</td>\n",
              "    </tr>\n",
              "    <tr>\n",
              "      <th>17779</th>\n",
              "      <td>139221</td>\n",
              "      <td>0</td>\n",
              "    </tr>\n",
              "    <tr>\n",
              "      <th>17780</th>\n",
              "      <td>57636</td>\n",
              "      <td>0</td>\n",
              "    </tr>\n",
              "    <tr>\n",
              "      <th>17781</th>\n",
              "      <td>286749</td>\n",
              "      <td>0</td>\n",
              "    </tr>\n",
              "    <tr>\n",
              "      <th>17782</th>\n",
              "      <td>105375355</td>\n",
              "      <td>0</td>\n",
              "    </tr>\n",
              "    <tr>\n",
              "      <th>17783</th>\n",
              "      <td>111240474</td>\n",
              "      <td>0</td>\n",
              "    </tr>\n",
              "  </tbody>\n",
              "</table>\n",
              "<p>17784 rows × 2 columns</p>\n",
              "</div>\n",
              "      <button class=\"colab-df-convert\" onclick=\"convertToInteractive('df-1a21f6e9-7897-478d-8fce-07affa701a94')\"\n",
              "              title=\"Convert this dataframe to an interactive table.\"\n",
              "              style=\"display:none;\">\n",
              "        \n",
              "  <svg xmlns=\"http://www.w3.org/2000/svg\" height=\"24px\"viewBox=\"0 0 24 24\"\n",
              "       width=\"24px\">\n",
              "    <path d=\"M0 0h24v24H0V0z\" fill=\"none\"/>\n",
              "    <path d=\"M18.56 5.44l.94 2.06.94-2.06 2.06-.94-2.06-.94-.94-2.06-.94 2.06-2.06.94zm-11 1L8.5 8.5l.94-2.06 2.06-.94-2.06-.94L8.5 2.5l-.94 2.06-2.06.94zm10 10l.94 2.06.94-2.06 2.06-.94-2.06-.94-.94-2.06-.94 2.06-2.06.94z\"/><path d=\"M17.41 7.96l-1.37-1.37c-.4-.4-.92-.59-1.43-.59-.52 0-1.04.2-1.43.59L10.3 9.45l-7.72 7.72c-.78.78-.78 2.05 0 2.83L4 21.41c.39.39.9.59 1.41.59.51 0 1.02-.2 1.41-.59l7.78-7.78 2.81-2.81c.8-.78.8-2.07 0-2.86zM5.41 20L4 18.59l7.72-7.72 1.47 1.35L5.41 20z\"/>\n",
              "  </svg>\n",
              "      </button>\n",
              "      \n",
              "  <style>\n",
              "    .colab-df-container {\n",
              "      display:flex;\n",
              "      flex-wrap:wrap;\n",
              "      gap: 12px;\n",
              "    }\n",
              "\n",
              "    .colab-df-convert {\n",
              "      background-color: #E8F0FE;\n",
              "      border: none;\n",
              "      border-radius: 50%;\n",
              "      cursor: pointer;\n",
              "      display: none;\n",
              "      fill: #1967D2;\n",
              "      height: 32px;\n",
              "      padding: 0 0 0 0;\n",
              "      width: 32px;\n",
              "    }\n",
              "\n",
              "    .colab-df-convert:hover {\n",
              "      background-color: #E2EBFA;\n",
              "      box-shadow: 0px 1px 2px rgba(60, 64, 67, 0.3), 0px 1px 3px 1px rgba(60, 64, 67, 0.15);\n",
              "      fill: #174EA6;\n",
              "    }\n",
              "\n",
              "    [theme=dark] .colab-df-convert {\n",
              "      background-color: #3B4455;\n",
              "      fill: #D2E3FC;\n",
              "    }\n",
              "\n",
              "    [theme=dark] .colab-df-convert:hover {\n",
              "      background-color: #434B5C;\n",
              "      box-shadow: 0px 1px 3px 1px rgba(0, 0, 0, 0.15);\n",
              "      filter: drop-shadow(0px 1px 2px rgba(0, 0, 0, 0.3));\n",
              "      fill: #FFFFFF;\n",
              "    }\n",
              "  </style>\n",
              "\n",
              "      <script>\n",
              "        const buttonEl =\n",
              "          document.querySelector('#df-1a21f6e9-7897-478d-8fce-07affa701a94 button.colab-df-convert');\n",
              "        buttonEl.style.display =\n",
              "          google.colab.kernel.accessAllowed ? 'block' : 'none';\n",
              "\n",
              "        async function convertToInteractive(key) {\n",
              "          const element = document.querySelector('#df-1a21f6e9-7897-478d-8fce-07affa701a94');\n",
              "          const dataTable =\n",
              "            await google.colab.kernel.invokeFunction('convertToInteractive',\n",
              "                                                     [key], {});\n",
              "          if (!dataTable) return;\n",
              "\n",
              "          const docLinkHtml = 'Like what you see? Visit the ' +\n",
              "            '<a target=\"_blank\" href=https://colab.research.google.com/notebooks/data_table.ipynb>data table notebook</a>'\n",
              "            + ' to learn more about interactive tables.';\n",
              "          element.innerHTML = '';\n",
              "          dataTable['output_type'] = 'display_data';\n",
              "          await google.colab.output.renderOutput(dataTable, element);\n",
              "          const docLink = document.createElement('div');\n",
              "          docLink.innerHTML = docLinkHtml;\n",
              "          element.appendChild(docLink);\n",
              "        }\n",
              "      </script>\n",
              "    </div>\n",
              "  </div>\n",
              "  "
            ]
          },
          "metadata": {},
          "execution_count": 7
        }
      ],
      "source": [
        "train_csv = \"train.csv\"\n",
        "train_data = pd.read_csv(train_csv)\n",
        "train_data"
      ]
    },
    {
      "cell_type": "code",
      "execution_count": 8,
      "id": "7fd90d98",
      "metadata": {
        "id": "7fd90d98"
      },
      "outputs": [],
      "source": [
        "train_data['Colorrectal'] = train_data['Colorrectal'].astype('int')"
      ]
    },
    {
      "cell_type": "code",
      "execution_count": 9,
      "id": "0a032b6a",
      "metadata": {
        "id": "0a032b6a",
        "outputId": "2d11e691-f206-4bbd-f309-0bd7cdd9a6c6",
        "colab": {
          "base_uri": "https://localhost:8080/",
          "height": 424
        }
      },
      "outputs": [
        {
          "output_type": "execute_result",
          "data": {
            "text/plain": [
              "       BetweennessCentrality  ClosenessCentrality  Degree\n",
              "0                   0.254290             0.568801    5198\n",
              "1                   0.022499             0.462449    1369\n",
              "2                   0.019190             0.469221    1124\n",
              "3                   0.037382             0.452459    1361\n",
              "4                   0.007169             0.455402     762\n",
              "...                      ...                  ...     ...\n",
              "17779               0.000000             0.286181       1\n",
              "17780               0.000000             0.289060       1\n",
              "17781               0.000000             0.305398       1\n",
              "17782               0.000000             0.271662       1\n",
              "17783               0.000000             0.277409       1\n",
              "\n",
              "[17784 rows x 3 columns]"
            ],
            "text/html": [
              "\n",
              "  <div id=\"df-8c562f37-547c-460e-9958-463a5a4200e5\">\n",
              "    <div class=\"colab-df-container\">\n",
              "      <div>\n",
              "<style scoped>\n",
              "    .dataframe tbody tr th:only-of-type {\n",
              "        vertical-align: middle;\n",
              "    }\n",
              "\n",
              "    .dataframe tbody tr th {\n",
              "        vertical-align: top;\n",
              "    }\n",
              "\n",
              "    .dataframe thead th {\n",
              "        text-align: right;\n",
              "    }\n",
              "</style>\n",
              "<table border=\"1\" class=\"dataframe\">\n",
              "  <thead>\n",
              "    <tr style=\"text-align: right;\">\n",
              "      <th></th>\n",
              "      <th>BetweennessCentrality</th>\n",
              "      <th>ClosenessCentrality</th>\n",
              "      <th>Degree</th>\n",
              "    </tr>\n",
              "  </thead>\n",
              "  <tbody>\n",
              "    <tr>\n",
              "      <th>0</th>\n",
              "      <td>0.254290</td>\n",
              "      <td>0.568801</td>\n",
              "      <td>5198</td>\n",
              "    </tr>\n",
              "    <tr>\n",
              "      <th>1</th>\n",
              "      <td>0.022499</td>\n",
              "      <td>0.462449</td>\n",
              "      <td>1369</td>\n",
              "    </tr>\n",
              "    <tr>\n",
              "      <th>2</th>\n",
              "      <td>0.019190</td>\n",
              "      <td>0.469221</td>\n",
              "      <td>1124</td>\n",
              "    </tr>\n",
              "    <tr>\n",
              "      <th>3</th>\n",
              "      <td>0.037382</td>\n",
              "      <td>0.452459</td>\n",
              "      <td>1361</td>\n",
              "    </tr>\n",
              "    <tr>\n",
              "      <th>4</th>\n",
              "      <td>0.007169</td>\n",
              "      <td>0.455402</td>\n",
              "      <td>762</td>\n",
              "    </tr>\n",
              "    <tr>\n",
              "      <th>...</th>\n",
              "      <td>...</td>\n",
              "      <td>...</td>\n",
              "      <td>...</td>\n",
              "    </tr>\n",
              "    <tr>\n",
              "      <th>17779</th>\n",
              "      <td>0.000000</td>\n",
              "      <td>0.286181</td>\n",
              "      <td>1</td>\n",
              "    </tr>\n",
              "    <tr>\n",
              "      <th>17780</th>\n",
              "      <td>0.000000</td>\n",
              "      <td>0.289060</td>\n",
              "      <td>1</td>\n",
              "    </tr>\n",
              "    <tr>\n",
              "      <th>17781</th>\n",
              "      <td>0.000000</td>\n",
              "      <td>0.305398</td>\n",
              "      <td>1</td>\n",
              "    </tr>\n",
              "    <tr>\n",
              "      <th>17782</th>\n",
              "      <td>0.000000</td>\n",
              "      <td>0.271662</td>\n",
              "      <td>1</td>\n",
              "    </tr>\n",
              "    <tr>\n",
              "      <th>17783</th>\n",
              "      <td>0.000000</td>\n",
              "      <td>0.277409</td>\n",
              "      <td>1</td>\n",
              "    </tr>\n",
              "  </tbody>\n",
              "</table>\n",
              "<p>17784 rows × 3 columns</p>\n",
              "</div>\n",
              "      <button class=\"colab-df-convert\" onclick=\"convertToInteractive('df-8c562f37-547c-460e-9958-463a5a4200e5')\"\n",
              "              title=\"Convert this dataframe to an interactive table.\"\n",
              "              style=\"display:none;\">\n",
              "        \n",
              "  <svg xmlns=\"http://www.w3.org/2000/svg\" height=\"24px\"viewBox=\"0 0 24 24\"\n",
              "       width=\"24px\">\n",
              "    <path d=\"M0 0h24v24H0V0z\" fill=\"none\"/>\n",
              "    <path d=\"M18.56 5.44l.94 2.06.94-2.06 2.06-.94-2.06-.94-.94-2.06-.94 2.06-2.06.94zm-11 1L8.5 8.5l.94-2.06 2.06-.94-2.06-.94L8.5 2.5l-.94 2.06-2.06.94zm10 10l.94 2.06.94-2.06 2.06-.94-2.06-.94-.94-2.06-.94 2.06-2.06.94z\"/><path d=\"M17.41 7.96l-1.37-1.37c-.4-.4-.92-.59-1.43-.59-.52 0-1.04.2-1.43.59L10.3 9.45l-7.72 7.72c-.78.78-.78 2.05 0 2.83L4 21.41c.39.39.9.59 1.41.59.51 0 1.02-.2 1.41-.59l7.78-7.78 2.81-2.81c.8-.78.8-2.07 0-2.86zM5.41 20L4 18.59l7.72-7.72 1.47 1.35L5.41 20z\"/>\n",
              "  </svg>\n",
              "      </button>\n",
              "      \n",
              "  <style>\n",
              "    .colab-df-container {\n",
              "      display:flex;\n",
              "      flex-wrap:wrap;\n",
              "      gap: 12px;\n",
              "    }\n",
              "\n",
              "    .colab-df-convert {\n",
              "      background-color: #E8F0FE;\n",
              "      border: none;\n",
              "      border-radius: 50%;\n",
              "      cursor: pointer;\n",
              "      display: none;\n",
              "      fill: #1967D2;\n",
              "      height: 32px;\n",
              "      padding: 0 0 0 0;\n",
              "      width: 32px;\n",
              "    }\n",
              "\n",
              "    .colab-df-convert:hover {\n",
              "      background-color: #E2EBFA;\n",
              "      box-shadow: 0px 1px 2px rgba(60, 64, 67, 0.3), 0px 1px 3px 1px rgba(60, 64, 67, 0.15);\n",
              "      fill: #174EA6;\n",
              "    }\n",
              "\n",
              "    [theme=dark] .colab-df-convert {\n",
              "      background-color: #3B4455;\n",
              "      fill: #D2E3FC;\n",
              "    }\n",
              "\n",
              "    [theme=dark] .colab-df-convert:hover {\n",
              "      background-color: #434B5C;\n",
              "      box-shadow: 0px 1px 3px 1px rgba(0, 0, 0, 0.15);\n",
              "      filter: drop-shadow(0px 1px 2px rgba(0, 0, 0, 0.3));\n",
              "      fill: #FFFFFF;\n",
              "    }\n",
              "  </style>\n",
              "\n",
              "      <script>\n",
              "        const buttonEl =\n",
              "          document.querySelector('#df-8c562f37-547c-460e-9958-463a5a4200e5 button.colab-df-convert');\n",
              "        buttonEl.style.display =\n",
              "          google.colab.kernel.accessAllowed ? 'block' : 'none';\n",
              "\n",
              "        async function convertToInteractive(key) {\n",
              "          const element = document.querySelector('#df-8c562f37-547c-460e-9958-463a5a4200e5');\n",
              "          const dataTable =\n",
              "            await google.colab.kernel.invokeFunction('convertToInteractive',\n",
              "                                                     [key], {});\n",
              "          if (!dataTable) return;\n",
              "\n",
              "          const docLinkHtml = 'Like what you see? Visit the ' +\n",
              "            '<a target=\"_blank\" href=https://colab.research.google.com/notebooks/data_table.ipynb>data table notebook</a>'\n",
              "            + ' to learn more about interactive tables.';\n",
              "          element.innerHTML = '';\n",
              "          dataTable['output_type'] = 'display_data';\n",
              "          await google.colab.output.renderOutput(dataTable, element);\n",
              "          const docLink = document.createElement('div');\n",
              "          docLink.innerHTML = docLinkHtml;\n",
              "          element.appendChild(docLink);\n",
              "        }\n",
              "      </script>\n",
              "    </div>\n",
              "  </div>\n",
              "  "
            ]
          },
          "metadata": {},
          "execution_count": 9
        }
      ],
      "source": [
        "train_csv2 = \"attempt2.csv\"\n",
        "train_data2 = pd.read_csv(train_csv2)\n",
        "train_data2 = train_data2.loc[:, train_data2.columns != 'alias']\n",
        "train_data2"
      ]
    },
    {
      "cell_type": "code",
      "execution_count": 10,
      "id": "64209b81",
      "metadata": {
        "id": "64209b81"
      },
      "outputs": [],
      "source": [
        "# X will hold the 128-dimensional input features\n",
        "\n",
        "X = node_embeddings\n",
        "X=pd.DataFrame(X)\n",
        "X = pd.concat([X, train_data2], axis=1)\n",
        "#scaler = preprocessing.MinMaxScaler()\n",
        "#scaler = preprocessing.StandardScaler()\n",
        "#scaler.fit(X)\n",
        "#X = pd.DataFrame(scaler.transform(X))\n",
        "#X = X.to_numpy()\n",
        "# y holds the corresponding target values\n",
        "y = train_data['Colorrectal']\n",
        "#lab_enc = preprocessing.LabelEncoder()\n",
        "#y = lab_enc.fit_transform(y)"
      ]
    },
    {
      "cell_type": "code",
      "execution_count": null,
      "id": "a308b7ac",
      "metadata": {
        "id": "a308b7ac",
        "outputId": "29031374-cb38-4c66-ba08-5bde1836e939"
      },
      "outputs": [
        {
          "name": "stdout",
          "output_type": "stream",
          "text": [
            "              0         1         2         3         4         5         6  \\\n",
            "0      0.151635  0.013062  0.004854  0.017251 -0.085164  0.013671 -0.003275   \n",
            "1     -0.011190 -0.251307  0.274290  0.036882 -0.001503 -0.042619 -0.111164   \n",
            "2      0.154858  0.000250 -0.200282  0.113379 -0.119130 -0.207601  0.174705   \n",
            "3      0.443318 -0.443277 -0.558782 -0.166157 -0.445005 -0.209983 -0.046623   \n",
            "4      0.100073  0.031023 -0.141208 -0.232731 -0.214743 -0.068555  0.076206   \n",
            "...         ...       ...       ...       ...       ...       ...       ...   \n",
            "17779  0.114422 -0.069040 -0.059414  0.035120 -0.149491  0.125160  0.078211   \n",
            "17780  0.106038  0.025294  0.088607 -0.008283 -0.088605  0.089271  0.069252   \n",
            "17781  0.064281  0.002535  0.033926 -0.038443 -0.045950  0.073360  0.028826   \n",
            "17782  0.046920 -0.010000  0.069679 -0.035994 -0.100774  0.084347  0.028911   \n",
            "17783  0.037317  0.006820  0.067625  0.012590 -0.055755  0.044795  0.010922   \n",
            "\n",
            "              7         8         9  ...       121       122       123  \\\n",
            "0     -0.096606  0.112935 -0.038656  ... -0.103155 -0.020938  0.148060   \n",
            "1     -0.029185  0.250956 -0.034223  ... -0.308138 -0.102744  0.034633   \n",
            "2     -0.410310 -0.109197  0.347284  ... -0.264209  0.156197  0.261334   \n",
            "3     -0.145207  0.259857 -0.027498  ...  0.021675  0.034679 -0.083284   \n",
            "4     -0.045534  0.085622  0.128452  ...  0.054939  0.232266 -0.115654   \n",
            "...         ...       ...       ...  ...       ...       ...       ...   \n",
            "17779 -0.120933  0.070289 -0.000579  ... -0.031661  0.058966 -0.015349   \n",
            "17780 -0.114205  0.103249 -0.039637  ... -0.058002  0.046061  0.119909   \n",
            "17781 -0.096879  0.139245 -0.032992  ... -0.115159  0.022348  0.017623   \n",
            "17782 -0.083222  0.066818 -0.043887  ... -0.102405  0.065760  0.008351   \n",
            "17783 -0.145682  0.071765  0.004607  ... -0.132597  0.079838  0.010765   \n",
            "\n",
            "            124       125       126       127  BetweennessCentrality  \\\n",
            "0     -0.132684 -0.163539  0.170814 -0.181490               0.254290   \n",
            "1      0.133191  0.105303  0.104469 -0.184718               0.022499   \n",
            "2      0.003727 -0.281649  0.076655 -0.425970               0.019190   \n",
            "3      0.069854 -0.031148  0.344579  0.016494               0.037382   \n",
            "4     -0.172944 -0.339634  0.028959 -0.253395               0.007169   \n",
            "...         ...       ...       ...       ...                    ...   \n",
            "17779 -0.016062 -0.111129  0.113544 -0.086757               0.000000   \n",
            "17780 -0.081081 -0.141908  0.129139 -0.092826               0.000000   \n",
            "17781 -0.047497 -0.107835  0.146189 -0.142000               0.000000   \n",
            "17782 -0.116750 -0.150781  0.173385 -0.157345               0.000000   \n",
            "17783 -0.019050 -0.110466  0.075862 -0.195624               0.000000   \n",
            "\n",
            "       ClosenessCentrality  Degree  \n",
            "0                 0.568801    5198  \n",
            "1                 0.462449    1369  \n",
            "2                 0.469221    1124  \n",
            "3                 0.452459    1361  \n",
            "4                 0.455402     762  \n",
            "...                    ...     ...  \n",
            "17779             0.286181       1  \n",
            "17780             0.289060       1  \n",
            "17781             0.305398       1  \n",
            "17782             0.271662       1  \n",
            "17783             0.277409       1  \n",
            "\n",
            "[17784 rows x 131 columns]\n"
          ]
        }
      ],
      "source": [
        "print(X)"
      ]
    },
    {
      "cell_type": "code",
      "execution_count": null,
      "id": "94744695",
      "metadata": {
        "id": "94744695",
        "outputId": "dc9c96df-ad77-457b-ab09-c3c1819c25ab"
      },
      "outputs": [
        {
          "name": "stdout",
          "output_type": "stream",
          "text": [
            "0        0\n",
            "1        1\n",
            "2        0\n",
            "3        0\n",
            "4        1\n",
            "        ..\n",
            "17779    0\n",
            "17780    0\n",
            "17781    0\n",
            "17782    0\n",
            "17783    0\n",
            "Name: Colorrectal, Length: 17784, dtype: int32\n"
          ]
        }
      ],
      "source": [
        "print(y)"
      ]
    },
    {
      "cell_type": "code",
      "execution_count": 11,
      "id": "97695cd3",
      "metadata": {
        "id": "97695cd3",
        "colab": {
          "base_uri": "https://localhost:8080/"
        },
        "outputId": "4bafcd97-bace-499b-92c5-6ee40a9c844f"
      },
      "outputs": [
        {
          "output_type": "stream",
          "name": "stderr",
          "text": [
            "/usr/local/lib/python3.7/dist-packages/sklearn/utils/validation.py:1692: FutureWarning: Feature names only support names that are all strings. Got feature names with dtypes: ['int', 'str']. An error will be raised in 1.2.\n",
            "  FutureWarning,\n",
            "/usr/local/lib/python3.7/dist-packages/sklearn/utils/validation.py:1692: FutureWarning: Feature names only support names that are all strings. Got feature names with dtypes: ['int', 'str']. An error will be raised in 1.2.\n",
            "  FutureWarning,\n"
          ]
        }
      ],
      "source": [
        "#scaler = preprocessing.MinMaxScaler()\n",
        "scaler = preprocessing.StandardScaler()\n",
        "# Keep the original targets safe for later\n",
        "X2 = X.copy()\n",
        "scaler.fit(X2)\n",
        "X2 = pd.DataFrame(scaler.transform(X))"
      ]
    },
    {
      "cell_type": "markdown",
      "source": [
        "**Random forest**"
      ],
      "metadata": {
        "id": "AOh8NJee8uMh"
      },
      "id": "AOh8NJee8uMh"
    },
    {
      "cell_type": "code",
      "execution_count": 12,
      "id": "71f13285",
      "metadata": {
        "id": "71f13285"
      },
      "outputs": [],
      "source": [
        "from pulearn import BaggingPuClassifier\n",
        "from sklearn.ensemble import RandomForestClassifier\n",
        "from sklearn.linear_model import LogisticRegression\n",
        "estimator = RandomForestClassifier(\n",
        "            #n_estimators=1000,\n",
        "            criterion='gini',\n",
        "            bootstrap=True\n",
        "        )\n",
        "#estimator =  RandomForestClassifier()\n",
        "#estimator = LogisticRegression(random_state=0,max_iter=500)\n",
        "\n",
        "pu_estimator = BaggingPuClassifier(\n",
        "    #DecisionTreeClassifier(), \n",
        "    base_estimator=estimator,\n",
        "    n_estimators = 1000,  # 10000 trees as usual\n",
        "    max_samples = sum(y), # Balance the positives and unlabeled in each bag\n",
        "    n_jobs = -1,           # Use all cores\n",
        "    bootstrap=True\n",
        ")"
      ]
    },
    {
      "cell_type": "code",
      "execution_count": null,
      "id": "bd54e95f",
      "metadata": {
        "id": "bd54e95f",
        "outputId": "f8969271-162b-417e-f4b7-f3b74552c56e"
      },
      "outputs": [
        {
          "data": {
            "text/html": [
              "<style>#sk-container-id-1 {color: black;background-color: white;}#sk-container-id-1 pre{padding: 0;}#sk-container-id-1 div.sk-toggleable {background-color: white;}#sk-container-id-1 label.sk-toggleable__label {cursor: pointer;display: block;width: 100%;margin-bottom: 0;padding: 0.3em;box-sizing: border-box;text-align: center;}#sk-container-id-1 label.sk-toggleable__label-arrow:before {content: \"▸\";float: left;margin-right: 0.25em;color: #696969;}#sk-container-id-1 label.sk-toggleable__label-arrow:hover:before {color: black;}#sk-container-id-1 div.sk-estimator:hover label.sk-toggleable__label-arrow:before {color: black;}#sk-container-id-1 div.sk-toggleable__content {max-height: 0;max-width: 0;overflow: hidden;text-align: left;background-color: #f0f8ff;}#sk-container-id-1 div.sk-toggleable__content pre {margin: 0.2em;color: black;border-radius: 0.25em;background-color: #f0f8ff;}#sk-container-id-1 input.sk-toggleable__control:checked~div.sk-toggleable__content {max-height: 200px;max-width: 100%;overflow: auto;}#sk-container-id-1 input.sk-toggleable__control:checked~label.sk-toggleable__label-arrow:before {content: \"▾\";}#sk-container-id-1 div.sk-estimator input.sk-toggleable__control:checked~label.sk-toggleable__label {background-color: #d4ebff;}#sk-container-id-1 div.sk-label input.sk-toggleable__control:checked~label.sk-toggleable__label {background-color: #d4ebff;}#sk-container-id-1 input.sk-hidden--visually {border: 0;clip: rect(1px 1px 1px 1px);clip: rect(1px, 1px, 1px, 1px);height: 1px;margin: -1px;overflow: hidden;padding: 0;position: absolute;width: 1px;}#sk-container-id-1 div.sk-estimator {font-family: monospace;background-color: #f0f8ff;border: 1px dotted black;border-radius: 0.25em;box-sizing: border-box;margin-bottom: 0.5em;}#sk-container-id-1 div.sk-estimator:hover {background-color: #d4ebff;}#sk-container-id-1 div.sk-parallel-item::after {content: \"\";width: 100%;border-bottom: 1px solid gray;flex-grow: 1;}#sk-container-id-1 div.sk-label:hover label.sk-toggleable__label {background-color: #d4ebff;}#sk-container-id-1 div.sk-serial::before {content: \"\";position: absolute;border-left: 1px solid gray;box-sizing: border-box;top: 0;bottom: 0;left: 50%;z-index: 0;}#sk-container-id-1 div.sk-serial {display: flex;flex-direction: column;align-items: center;background-color: white;padding-right: 0.2em;padding-left: 0.2em;position: relative;}#sk-container-id-1 div.sk-item {position: relative;z-index: 1;}#sk-container-id-1 div.sk-parallel {display: flex;align-items: stretch;justify-content: center;background-color: white;position: relative;}#sk-container-id-1 div.sk-item::before, #sk-container-id-1 div.sk-parallel-item::before {content: \"\";position: absolute;border-left: 1px solid gray;box-sizing: border-box;top: 0;bottom: 0;left: 50%;z-index: -1;}#sk-container-id-1 div.sk-parallel-item {display: flex;flex-direction: column;z-index: 1;position: relative;background-color: white;}#sk-container-id-1 div.sk-parallel-item:first-child::after {align-self: flex-end;width: 50%;}#sk-container-id-1 div.sk-parallel-item:last-child::after {align-self: flex-start;width: 50%;}#sk-container-id-1 div.sk-parallel-item:only-child::after {width: 0;}#sk-container-id-1 div.sk-dashed-wrapped {border: 1px dashed gray;margin: 0 0.4em 0.5em 0.4em;box-sizing: border-box;padding-bottom: 0.4em;background-color: white;}#sk-container-id-1 div.sk-label label {font-family: monospace;font-weight: bold;display: inline-block;line-height: 1.2em;}#sk-container-id-1 div.sk-label-container {text-align: center;}#sk-container-id-1 div.sk-container {/* jupyter's `normalize.less` sets `[hidden] { display: none; }` but bootstrap.min.css set `[hidden] { display: none !important; }` so we also need the `!important` here to be able to override the default hidden behavior on the sphinx rendered scikit-learn.org. See: https://github.com/scikit-learn/scikit-learn/issues/21755 */display: inline-block !important;position: relative;}#sk-container-id-1 div.sk-text-repr-fallback {display: none;}</style><div id=\"sk-container-id-1\" class=\"sk-top-container\"><div class=\"sk-text-repr-fallback\"><pre>BaggingPuClassifier(base_estimator=RandomForestClassifier(), max_samples=85,\n",
              "                    n_estimators=1000, n_jobs=-1)</pre><b>In a Jupyter environment, please rerun this cell to show the HTML representation or trust the notebook. <br />On GitHub, the HTML representation is unable to render, please try loading this page with nbviewer.org.</b></div><div class=\"sk-container\" hidden><div class=\"sk-item sk-dashed-wrapped\"><div class=\"sk-label-container\"><div class=\"sk-label sk-toggleable\"><input class=\"sk-toggleable__control sk-hidden--visually\" id=\"sk-estimator-id-1\" type=\"checkbox\" ><label for=\"sk-estimator-id-1\" class=\"sk-toggleable__label sk-toggleable__label-arrow\">BaggingPuClassifier</label><div class=\"sk-toggleable__content\"><pre>BaggingPuClassifier(base_estimator=RandomForestClassifier(), max_samples=85,\n",
              "                    n_estimators=1000, n_jobs=-1)</pre></div></div></div><div class=\"sk-parallel\"><div class=\"sk-parallel-item\"><div class=\"sk-item\"><div class=\"sk-label-container\"><div class=\"sk-label sk-toggleable\"><input class=\"sk-toggleable__control sk-hidden--visually\" id=\"sk-estimator-id-2\" type=\"checkbox\" ><label for=\"sk-estimator-id-2\" class=\"sk-toggleable__label sk-toggleable__label-arrow\">base_estimator: RandomForestClassifier</label><div class=\"sk-toggleable__content\"><pre>RandomForestClassifier()</pre></div></div></div><div class=\"sk-serial\"><div class=\"sk-item\"><div class=\"sk-estimator sk-toggleable\"><input class=\"sk-toggleable__control sk-hidden--visually\" id=\"sk-estimator-id-3\" type=\"checkbox\" ><label for=\"sk-estimator-id-3\" class=\"sk-toggleable__label sk-toggleable__label-arrow\">RandomForestClassifier</label><div class=\"sk-toggleable__content\"><pre>RandomForestClassifier()</pre></div></div></div></div></div></div></div></div></div></div>"
            ],
            "text/plain": [
              "BaggingPuClassifier(base_estimator=RandomForestClassifier(), max_samples=85,\n",
              "                    n_estimators=1000, n_jobs=-1)"
            ]
          },
          "execution_count": 13,
          "metadata": {},
          "output_type": "execute_result"
        }
      ],
      "source": [
        "pu_estimator.fit(X2, y)"
      ]
    },
    {
      "cell_type": "code",
      "execution_count": null,
      "id": "a54f362d",
      "metadata": {
        "id": "a54f362d",
        "outputId": "2ffc54b5-a9e3-4363-87e4-b0c23b0185cb"
      },
      "outputs": [
        {
          "data": {
            "text/plain": [
              "0.789923526765632"
            ]
          },
          "execution_count": 15,
          "metadata": {},
          "output_type": "execute_result"
        }
      ],
      "source": [
        "y_pred = pu_estimator.predict(X2)\n",
        "pu_estimator.score(X2, y)"
      ]
    },
    {
      "cell_type": "code",
      "execution_count": null,
      "id": "26059775",
      "metadata": {
        "id": "26059775"
      },
      "outputs": [],
      "source": [
        "#from sklearn.metrics import accuracy_score\n",
        "#accuracy_score(y, y_pred)"
      ]
    },
    {
      "cell_type": "code",
      "execution_count": null,
      "id": "ffe2a2fa",
      "metadata": {
        "id": "ffe2a2fa",
        "outputId": "4c9c26de-d91c-4c1a-f554-c27075aedaf2"
      },
      "outputs": [
        {
          "data": {
            "text/plain": [
              "0.8944573139725408"
            ]
          },
          "execution_count": 16,
          "metadata": {},
          "output_type": "execute_result"
        }
      ],
      "source": [
        "from sklearn import metrics\n",
        "fpr, tpr, thresholds = metrics.roc_curve(y, y_pred, pos_label=1)\n",
        "metrics.auc(fpr, tpr)"
      ]
    },
    {
      "cell_type": "code",
      "execution_count": null,
      "id": "cab117be",
      "metadata": {
        "id": "cab117be",
        "outputId": "90cba815-3394-4a32-c915-f3c7640cc421"
      },
      "outputs": [
        {
          "name": "stdout",
          "output_type": "stream",
          "text": [
            "              precision    recall  f1-score   support\n",
            "\n",
            "           0       1.00      0.79      0.88     17699\n",
            "           1       0.02      1.00      0.04        85\n",
            "\n",
            "    accuracy                           0.79     17784\n",
            "   macro avg       0.51      0.89      0.46     17784\n",
            "weighted avg       1.00      0.79      0.88     17784\n",
            "\n"
          ]
        }
      ],
      "source": [
        "#Calculo de las metricas Precision, Recall, F1-score \n",
        "from sklearn.metrics import classification_report\n",
        "print(classification_report(y,y_pred))"
      ]
    },
    {
      "cell_type": "code",
      "execution_count": null,
      "id": "2720aab4",
      "metadata": {
        "id": "2720aab4",
        "outputId": "98d9d97f-a528-4364-d464-629424403954"
      },
      "outputs": [
        {
          "name": "stdout",
          "output_type": "stream",
          "text": [
            "[0.44204 0.42538 0.40804 ... 0.32326 0.32145 0.32074]\n"
          ]
        }
      ],
      "source": [
        "prob_a = pu_estimator.predict_proba(X)[:,1]\n",
        "print(prob_a)"
      ]
    },
    {
      "cell_type": "code",
      "execution_count": null,
      "id": "0ed80076",
      "metadata": {
        "id": "0ed80076",
        "outputId": "519ca27f-ceee-48c7-9f61-103485a63a8b"
      },
      "outputs": [
        {
          "name": "stdout",
          "output_type": "stream",
          "text": [
            "[0. 0. 0. ... 0. 0. 0.]\n"
          ]
        },
        {
          "data": {
            "text/plain": [
              "0.0"
            ]
          },
          "execution_count": 20,
          "metadata": {},
          "output_type": "execute_result"
        }
      ],
      "source": [
        "prob_aa = prob_a.copy()\n",
        "for i in range(len(prob_aa)):\n",
        "  \n",
        "    # replace hardik with shardul\n",
        "    if prob_aa[i] >=.9:\n",
        "        prob_aa[i] = 1\n",
        "    elif prob_aa[i] <.9:\n",
        "        prob_aa[i] = 0\n",
        "print(prob_aa)\n",
        "sum(prob_aa)"
      ]
    },
    {
      "cell_type": "code",
      "execution_count": null,
      "id": "2759103b",
      "metadata": {
        "id": "2759103b",
        "outputId": "754ceba9-6204-40e3-f962-df15be357348"
      },
      "outputs": [
        {
          "data": {
            "text/plain": [
              "<sklearn.metrics._plot.roc_curve.RocCurveDisplay at 0x27ab0e0c520>"
            ]
          },
          "execution_count": 21,
          "metadata": {},
          "output_type": "execute_result"
        },
        {
          "data": {
            "image/png": "[encoded data removed]",
            "text/plain": [
              "<Figure size 432x288 with 1 Axes>"
            ]
          },
          "metadata": {
            "needs_background": "light"
          },
          "output_type": "display_data"
        }
      ],
      "source": [
        "fig, ax = plt.subplots()\n",
        "sk_metrics.plot_roc_curve(pu_estimator, X, y, name='ROC', alpha=0.3, lw=1, ax=ax)"
      ]
    },
    {
      "cell_type": "code",
      "execution_count": null,
      "id": "ea483f7c",
      "metadata": {
        "id": "ea483f7c",
        "outputId": "c52482b9-5ce1-40a8-de27-5f139ccbcaac"
      },
      "outputs": [
        {
          "data": {
            "text/plain": [
              "<AxesSubplot:>"
            ]
          },
          "execution_count": 22,
          "metadata": {},
          "output_type": "execute_result"
        },
        {
          "data": {
            "image/png": "[encoded data removed]",
            "text/plain": [
              "<Figure size 432x288 with 1 Axes>"
            ]
          },
          "metadata": {
            "needs_background": "light"
          },
          "output_type": "display_data"
        }
      ],
      "source": [
        "mat, ax_mat = plt.subplots()\n",
        "cmap = plt.get_cmap('Blues')\n",
        "cm = sk_metrics.confusion_matrix(y, y_pred)\n",
        "sns.heatmap(cm, cmap=cmap, annot=True, fmt='g', ax=ax_mat, cbar=False)"
      ]
    },
    {
      "cell_type": "markdown",
      "id": "18315a56",
      "metadata": {
        "id": "18315a56"
      },
      "source": [
        "#SCALING THEM #https://roywrightme.wordpress.com/2017/11/16/positive-unlabeled-learning/\n",
        "https://scikit-learn.org/stable/auto_examples/preprocessing/plot_scaling_importance.html#sphx-glr-auto-examples-preprocessing-plot-scaling-importance-py"
      ]
    },
    {
      "cell_type": "code",
      "execution_count": null,
      "id": "d69d1dcb",
      "metadata": {
        "id": "d69d1dcb"
      },
      "outputs": [],
      "source": [
        "X2"
      ]
    },
    {
      "cell_type": "markdown",
      "source": [
        "**K-vecinos**"
      ],
      "metadata": {
        "id": "Qvv4hT6KwlC6"
      },
      "id": "Qvv4hT6KwlC6"
    },
    {
      "cell_type": "code",
      "source": [
        "from sklearn.neighbors import KNeighborsClassifier\n",
        "arr_pred = []\n",
        "maxim_score = -1\n",
        "KpredictionSelected = None \n",
        "for i in range(3,19):\n",
        "  knc = KNeighborsClassifier(n_neighbors=i)\n",
        "  knc.fit(X2, y)\n",
        "  Kprediction = knc.predict(X2)\n",
        "  score = knc.score(X2, y)\n",
        "  arr_pred.append(knc.score(X2, y))\n",
        "  if score > maxim_score:\n",
        "    maxim_score = score\n",
        "    KpredictionSelected = Kprediction\n",
        "    \n",
        " \n",
        "print(\"la mejor predicción es: \", maxim_score)\n",
        "print(\"con el mejor n_neighbor siendo\", arr_pred.index(maxim_score) +  3)\n"
      ],
      "metadata": {
        "colab": {
          "base_uri": "https://localhost:8080/"
        },
        "id": "qJR8fH9HwkE6",
        "outputId": "94690f4e-7c71-46bd-cebd-0a77ceb5570d"
      },
      "id": "qJR8fH9HwkE6",
      "execution_count": 13,
      "outputs": [
        {
          "output_type": "stream",
          "name": "stdout",
          "text": [
            "la mejor predicción es:  0.9954453441295547\n",
            "con el mejor n_neighbor siendo 3\n"
          ]
        }
      ]
    },
    {
      "cell_type": "code",
      "source": [
        "estimator = KNeighborsClassifier(n_neighbors=3)\n",
        "\n",
        "pu_estimator2 = BaggingPuClassifier(\n",
        "    base_estimator=estimator,\n",
        "    n_estimators = 1000,  # 10000 trees as usual\n",
        "    max_samples = sum(y), # Balance the positives and unlabeled in each bag\n",
        "    n_jobs = -1,           # Use all cores\n",
        "    bootstrap=True\n",
        ")\n",
        "\n",
        "pu_estimator2.fit(X2, y)"
      ],
      "metadata": {
        "colab": {
          "base_uri": "https://localhost:8080/"
        },
        "id": "nfJA-SPFyyr6",
        "outputId": "ef879ff9-45d5-4313-e8d1-a09f72085b2f"
      },
      "id": "nfJA-SPFyyr6",
      "execution_count": 14,
      "outputs": [
        {
          "output_type": "execute_result",
          "data": {
            "text/plain": [
              "BaggingPuClassifier(base_estimator=KNeighborsClassifier(n_neighbors=3),\n",
              "                    max_samples=85, n_estimators=1000, n_jobs=-1)"
            ]
          },
          "metadata": {},
          "execution_count": 14
        }
      ]
    },
    {
      "cell_type": "code",
      "source": [
        "y_pred2 = pu_estimator2.predict(X2)\n",
        "pu_estimator2.score(X2, y)"
      ],
      "metadata": {
        "colab": {
          "base_uri": "https://localhost:8080/"
        },
        "id": "8XFBNkdtzqnS",
        "outputId": "43e7936c-3a35-4e89-a1b7-f4f744134383"
      },
      "id": "8XFBNkdtzqnS",
      "execution_count": 15,
      "outputs": [
        {
          "output_type": "execute_result",
          "data": {
            "text/plain": [
              "0.9877980206927576"
            ]
          },
          "metadata": {},
          "execution_count": 15
        }
      ]
    },
    {
      "cell_type": "code",
      "source": [
        "#Calculo de las metricas Precision, Recall, F1-score \n",
        "from sklearn.metrics import classification_report\n",
        "print(classification_report(y,y_pred2))"
      ],
      "metadata": {
        "colab": {
          "base_uri": "https://localhost:8080/"
        },
        "id": "MZR-9-XW0Bia",
        "outputId": "45e7ab86-2d75-42e8-df04-93b248fcc7c0"
      },
      "id": "MZR-9-XW0Bia",
      "execution_count": 16,
      "outputs": [
        {
          "output_type": "stream",
          "name": "stdout",
          "text": [
            "              precision    recall  f1-score   support\n",
            "\n",
            "           0       1.00      0.99      0.99     17699\n",
            "           1       0.18      0.42      0.25        85\n",
            "\n",
            "    accuracy                           0.99     17784\n",
            "   macro avg       0.59      0.71      0.62     17784\n",
            "weighted avg       0.99      0.99      0.99     17784\n",
            "\n"
          ]
        }
      ]
    },
    {
      "cell_type": "code",
      "source": [
        "#Metricas de la Matriz de confusión\n",
        "from sklearn.metrics import classification_report, confusion_matrix, accuracy_score\n",
        "Confusion_matrix = confusion_matrix(y_pred2, y)\n",
        "Confusion_matrix"
      ],
      "metadata": {
        "colab": {
          "base_uri": "https://localhost:8080/"
        },
        "id": "wwCJFmsW1PMq",
        "outputId": "01325ecd-1949-4fcd-bf19-ca52b1b52b69"
      },
      "id": "wwCJFmsW1PMq",
      "execution_count": 17,
      "outputs": [
        {
          "output_type": "execute_result",
          "data": {
            "text/plain": [
              "array([[17531,    49],\n",
              "       [  168,    36]])"
            ]
          },
          "metadata": {},
          "execution_count": 17
        }
      ]
    },
    {
      "cell_type": "markdown",
      "source": [
        "**Regresión logística\n",
        "**"
      ],
      "metadata": {
        "id": "er7UN5mj1Exq"
      },
      "id": "er7UN5mj1Exq"
    },
    {
      "cell_type": "code",
      "execution_count": 19,
      "id": "50043cf3",
      "metadata": {
        "id": "50043cf3",
        "outputId": "1bf88b9e-f751-4279-e58b-53fedeedb7a0",
        "colab": {
          "base_uri": "https://localhost:8080/"
        }
      },
      "outputs": [
        {
          "output_type": "execute_result",
          "data": {
            "text/plain": [
              "BaggingPuClassifier(base_estimator=LogisticRegression(max_iter=500,\n",
              "                                                      random_state=0),\n",
              "                    max_samples=85, n_estimators=1000, n_jobs=-1)"
            ]
          },
          "metadata": {},
          "execution_count": 19
        }
      ],
      "source": [
        "from sklearn.svm import SVC\n",
        "from pulearn import BaggingPuClassifier\n",
        "from sklearn.ensemble import RandomForestClassifier\n",
        "from sklearn.linear_model import LogisticRegression\n",
        "#estimator = SVC(C=10, kernel='rbf', gamma=0.4, probability=True)\n",
        "estimator = LogisticRegression(random_state=0,max_iter=500)\n",
        "\n",
        "\n",
        "pu_estimator2 = BaggingPuClassifier(\n",
        "    base_estimator=estimator,\n",
        "    n_estimators = 1000,  # 10000 trees as usual\n",
        "    max_samples = sum(y), # Balance the positives and unlabeled in each bag\n",
        "    n_jobs = -1,           # Use all cores\n",
        "    bootstrap=True\n",
        ")\n",
        "\n",
        "pu_estimator2.fit(X2, y)"
      ]
    },
    {
      "cell_type": "code",
      "execution_count": 20,
      "id": "35ccfde6",
      "metadata": {
        "id": "35ccfde6",
        "outputId": "97de5f03-0833-4165-823c-b71513623da9",
        "colab": {
          "base_uri": "https://localhost:8080/"
        }
      },
      "outputs": [
        {
          "output_type": "execute_result",
          "data": {
            "text/plain": [
              "0.8466036887089519"
            ]
          },
          "metadata": {},
          "execution_count": 20
        }
      ],
      "source": [
        "y_pred2 = pu_estimator2.predict(X2)\n",
        "pu_estimator2.score(X2, y)"
      ]
    },
    {
      "cell_type": "code",
      "execution_count": 21,
      "id": "530cc41c",
      "metadata": {
        "id": "530cc41c",
        "outputId": "e1ef7596-c1d3-42db-fbbc-d068c0afbac9",
        "colab": {
          "base_uri": "https://localhost:8080/"
        }
      },
      "outputs": [
        {
          "output_type": "stream",
          "name": "stdout",
          "text": [
            "              precision    recall  f1-score   support\n",
            "\n",
            "           0       1.00      0.85      0.92     17699\n",
            "           1       0.03      1.00      0.06        85\n",
            "\n",
            "    accuracy                           0.85     17784\n",
            "   macro avg       0.52      0.92      0.49     17784\n",
            "weighted avg       1.00      0.85      0.91     17784\n",
            "\n"
          ]
        }
      ],
      "source": [
        "#Calculo de las metricas Precision, Recall, F1-score \n",
        "from sklearn.metrics import classification_report\n",
        "print(classification_report(y,y_pred2))"
      ]
    },
    {
      "cell_type": "code",
      "source": [
        "#Metricas de la Matriz de confusión\n",
        "from sklearn.metrics import classification_report, confusion_matrix, accuracy_score\n",
        "Confusion_matrix = confusion_matrix(y_pred2, y)\n",
        "Confusion_matrix"
      ],
      "metadata": {
        "colab": {
          "base_uri": "https://localhost:8080/"
        },
        "id": "3zIVBgXL3ld6",
        "outputId": "e163fd8f-3a5b-4dde-c003-4017df6a2b4c"
      },
      "id": "3zIVBgXL3ld6",
      "execution_count": 22,
      "outputs": [
        {
          "output_type": "execute_result",
          "data": {
            "text/plain": [
              "array([[14971,     0],\n",
              "       [ 2728,    85]])"
            ]
          },
          "metadata": {},
          "execution_count": 22
        }
      ]
    },
    {
      "cell_type": "code",
      "execution_count": null,
      "id": "79dc1565",
      "metadata": {
        "id": "79dc1565",
        "outputId": "55c3dc78-c72b-40fd-a8ef-88266bb9254b"
      },
      "outputs": [
        {
          "name": "stdout",
          "output_type": "stream",
          "text": [
            "[0.95783206 0.99616338 0.99106719 ... 0.00510063 0.0016691  0.00206556]\n"
          ]
        }
      ],
      "source": [
        "prob_a2 = pu_estimator2.predict_proba(X2)[:,1]\n",
        "print(prob_a2)\n"
      ]
    },
    {
      "cell_type": "code",
      "execution_count": null,
      "id": "fcf4fda0",
      "metadata": {
        "id": "fcf4fda0",
        "outputId": "6c8ee06e-9d21-47f0-ea08-7f0f986983bb"
      },
      "outputs": [
        {
          "name": "stdout",
          "output_type": "stream",
          "text": [
            "[1. 1. 1. ... 0. 0. 0.]\n"
          ]
        },
        {
          "data": {
            "text/plain": [
              "513.0"
            ]
          },
          "execution_count": 28,
          "metadata": {},
          "output_type": "execute_result"
        }
      ],
      "source": [
        "prob_a3 = prob_a2.copy()\n",
        "for i in range(len(prob_a3)):\n",
        "  \n",
        "    # replace hardik with shardul\n",
        "    if prob_a3[i] >=.9:\n",
        "        prob_a3[i] = 1\n",
        "    elif prob_a3[i] <.9:\n",
        "        prob_a3[i] = 0\n",
        "print(prob_a3)\n",
        "sum(prob_a3)"
      ]
    },
    {
      "cell_type": "code",
      "execution_count": null,
      "id": "e6859a93",
      "metadata": {
        "id": "e6859a93"
      },
      "outputs": [],
      "source": [
        "import pandas as pd\n",
        "df = pd.DataFrame(prob_a3) \n",
        "    \n",
        "# saving the dataframe \n",
        "df.to_csv('LOG_REG.csv') "
      ]
    },
    {
      "cell_type": "code",
      "execution_count": null,
      "id": "b9234851",
      "metadata": {
        "id": "b9234851"
      },
      "outputs": [],
      "source": [
        "#from pulearn import BaggingPuClassifier\n",
        "#from sklearn.svm import SVC\n",
        "#estimator = SVC(C=10, kernel='rbf', gamma=0.4, probability=True)\n",
        "#estimator = LogisticRegression(random_state=0,max_iter=500)\n",
        "\n",
        "\n",
        "#pu_estimator3 = BaggingPuClassifier(\n",
        "#    base_estimator=estimator,\n",
        "#    n_estimators = 1000,  # 10000 trees as usual\n",
        "#    max_samples = sum(y), # Balance the positives and unlabeled in each bag\n",
        "#    n_jobs = -1,           # Use all cores\n",
        "#    bootstrap=True\n",
        "#)\n",
        "\n",
        "#pu_estimator3.fit(X2, y)"
      ]
    },
    {
      "cell_type": "code",
      "execution_count": null,
      "id": "4a3b35e4",
      "metadata": {
        "id": "4a3b35e4"
      },
      "outputs": [],
      "source": [
        "#y_pred3 = pu_estimator3.predict(X2)\n",
        "#pu_estimator3.score(X2, y)"
      ]
    },
    {
      "cell_type": "code",
      "execution_count": null,
      "id": "6626fa0b",
      "metadata": {
        "id": "6626fa0b"
      },
      "outputs": [],
      "source": [
        "##Calculo de las metricas Precision, Recall, F1-score \n",
        "#from sklearn.metrics import classification_report\n",
        "#print(classification_report(y,y_pred3))"
      ]
    },
    {
      "cell_type": "markdown",
      "source": [
        "**Análisis discriminante lineal**"
      ],
      "metadata": {
        "id": "D0z0zsmK5hgZ"
      },
      "id": "D0z0zsmK5hgZ"
    },
    {
      "cell_type": "code",
      "execution_count": 23,
      "id": "fa253ac4",
      "metadata": {
        "id": "fa253ac4",
        "outputId": "9eea7902-fbba-4c28-80a7-e69059836f43",
        "colab": {
          "base_uri": "https://localhost:8080/"
        }
      },
      "outputs": [
        {
          "output_type": "execute_result",
          "data": {
            "text/plain": [
              "BaggingPuClassifier(base_estimator=LinearDiscriminantAnalysis(), max_samples=85,\n",
              "                    n_estimators=1000, n_jobs=-1)"
            ]
          },
          "metadata": {},
          "execution_count": 23
        }
      ],
      "source": [
        "from sklearn.discriminant_analysis import LinearDiscriminantAnalysis\n",
        "from pulearn import BaggingPuClassifier\n",
        "#estimator = SVC(C=10, kernel='rbf', gamma=0.4, probability=True)\n",
        "#estimator = LogisticRegression(random_state=0,max_iter=500)\n",
        "estimator = LinearDiscriminantAnalysis()\n",
        "\n",
        "pu_estimator4 = BaggingPuClassifier(\n",
        "    base_estimator=estimator,\n",
        "    n_estimators = 1000,  # 10000 trees as usual\n",
        "    max_samples = sum(y), # Balance the positives and unlabeled in each bag\n",
        "    n_jobs = -1,           # Use all cores\n",
        "    bootstrap=True\n",
        ")\n",
        "\n",
        "pu_estimator4.fit(X2, y)"
      ]
    },
    {
      "cell_type": "code",
      "execution_count": 24,
      "id": "e8a45eb0",
      "metadata": {
        "id": "e8a45eb0",
        "outputId": "a000681f-84cf-464f-8842-1d648b3b3c4e",
        "colab": {
          "base_uri": "https://localhost:8080/"
        }
      },
      "outputs": [
        {
          "output_type": "execute_result",
          "data": {
            "text/plain": [
              "0.8270917678812416"
            ]
          },
          "metadata": {},
          "execution_count": 24
        }
      ],
      "source": [
        "y_pred4 = pu_estimator4.predict(X2)\n",
        "pu_estimator4.score(X2, y)"
      ]
    },
    {
      "cell_type": "code",
      "execution_count": 25,
      "id": "b3236deb",
      "metadata": {
        "id": "b3236deb",
        "outputId": "2482a81a-3287-4f21-d542-891b85d248e0",
        "colab": {
          "base_uri": "https://localhost:8080/"
        }
      },
      "outputs": [
        {
          "output_type": "stream",
          "name": "stdout",
          "text": [
            "              precision    recall  f1-score   support\n",
            "\n",
            "           0       1.00      0.83      0.90     17699\n",
            "           1       0.03      1.00      0.05        85\n",
            "\n",
            "    accuracy                           0.83     17784\n",
            "   macro avg       0.51      0.91      0.48     17784\n",
            "weighted avg       1.00      0.83      0.90     17784\n",
            "\n"
          ]
        }
      ],
      "source": [
        "#Calculo de las metricas Precision, Recall, F1-score \n",
        "from sklearn.metrics import classification_report\n",
        "print(classification_report(y,y_pred4))"
      ]
    },
    {
      "cell_type": "code",
      "source": [
        "#Metricas de la Matriz de confusión\n",
        "from sklearn.metrics import classification_report, confusion_matrix, accuracy_score\n",
        "Confusion_matrix = confusion_matrix(y_pred2, y)\n",
        "Confusion_matrix"
      ],
      "metadata": {
        "colab": {
          "base_uri": "https://localhost:8080/"
        },
        "id": "-yew7m4S5gJJ",
        "outputId": "22d3e362-9af9-4ab2-aad7-d83da7d63f8e"
      },
      "id": "-yew7m4S5gJJ",
      "execution_count": 26,
      "outputs": [
        {
          "output_type": "execute_result",
          "data": {
            "text/plain": [
              "array([[14971,     0],\n",
              "       [ 2728,    85]])"
            ]
          },
          "metadata": {},
          "execution_count": 26
        }
      ]
    },
    {
      "cell_type": "code",
      "execution_count": null,
      "id": "9d8ee473",
      "metadata": {
        "id": "9d8ee473",
        "outputId": "8ecafe67-4adb-4c11-f4d8-7fd3cea4aa8d"
      },
      "outputs": [
        {
          "name": "stdout",
          "output_type": "stream",
          "text": [
            "[1.19001537e-01 9.99970551e-01 7.98079223e-01 ... 1.09830875e-03\n",
            " 2.66798117e-07 1.78987816e-06]\n"
          ]
        }
      ],
      "source": [
        "prob_a4 = pu_estimator4.predict_proba(X2)[:,1]\n",
        "print(prob_a4)"
      ]
    },
    {
      "cell_type": "code",
      "execution_count": null,
      "id": "72652cac",
      "metadata": {
        "id": "72652cac",
        "outputId": "76d3bc74-2935-47cb-9db0-301b8427ac55"
      },
      "outputs": [
        {
          "name": "stdout",
          "output_type": "stream",
          "text": [
            "[0. 1. 0. ... 0. 0. 0.]\n"
          ]
        },
        {
          "data": {
            "text/plain": [
              "166.0"
            ]
          },
          "execution_count": 37,
          "metadata": {},
          "output_type": "execute_result"
        }
      ],
      "source": [
        "prob_a4a = prob_a4.copy()\n",
        "for i in range(len(prob_a3)):\n",
        "  \n",
        "    # replace hardik with shardul\n",
        "    if prob_a4a[i] >=.9:\n",
        "        prob_a4a[i] = 1\n",
        "    elif prob_a4a[i] <.9:\n",
        "        prob_a4a[i] = 0\n",
        "print(prob_a4a)\n",
        "sum(prob_a4a)"
      ]
    },
    {
      "cell_type": "code",
      "execution_count": null,
      "id": "9cbf555a",
      "metadata": {
        "id": "9cbf555a"
      },
      "outputs": [],
      "source": [
        "import pandas as pd\n",
        "df = pd.DataFrame(prob_a4a) \n",
        "    \n",
        "# saving the dataframe \n",
        "df.to_csv('LinearDiscriminantAnalysis.csv') "
      ]
    },
    {
      "cell_type": "markdown",
      "id": "43553c63",
      "metadata": {
        "id": "43553c63"
      },
      "source": [
        "#bagging all resampled"
      ]
    },
    {
      "cell_type": "code",
      "execution_count": null,
      "id": "fac3820d",
      "metadata": {
        "id": "fac3820d"
      },
      "outputs": [],
      "source": [
        "#gsmote = GeometricSMOTE(random_state=1,selection_strategy='minority')\n",
        "#X_res_all, y_res_all = gsmote.fit_resample(X2, y)\n",
        "#print('Resampled dataset shape %s' % Counter(y_res_all))"
      ]
    },
    {
      "cell_type": "markdown",
      "id": "fedb716a",
      "metadata": {
        "id": "fedb716a"
      },
      "source": [
        "from sklearn.ensemble import BaggingClassifier\n",
        "\n",
        "#estimator = LogisticRegression(random_state=0,max_iter=500)\n",
        "estimator=RandomForestClassifier(n_estimators=1000, bootstrap= 1000)\n",
        "pu_estimator_10 = BaggingClassifier(\n",
        "    base_estimator=estimator,\n",
        "    n_estimators = 1000,  # 10000 trees as usual\n",
        "    max_samples = sum(y_res_all), # Balance the positives and unlabeled in each bag\n",
        "    n_jobs = -1,           # Use all cores\n",
        "    bootstrap=True\n",
        ")\n",
        "\n",
        "pu_estimator_10.fit(X_res_all, y_res_all)"
      ]
    },
    {
      "cell_type": "markdown",
      "id": "f747ec4d",
      "metadata": {
        "id": "f747ec4d"
      },
      "source": [
        "y_pred=pu_estimator_10.predict(X_test)\n",
        "pu_estimator_10.score(X_test, y_test)"
      ]
    },
    {
      "cell_type": "code",
      "execution_count": null,
      "id": "d6d8a29d",
      "metadata": {
        "id": "d6d8a29d",
        "outputId": "f25f3a9d-e053-43ae-dfe3-6ba70a108058"
      },
      "outputs": [
        {
          "data": {
            "text/html": [
              "<div>\n",
              "<style scoped>\n",
              "    .dataframe tbody tr th:only-of-type {\n",
              "        vertical-align: middle;\n",
              "    }\n",
              "\n",
              "    .dataframe tbody tr th {\n",
              "        vertical-align: top;\n",
              "    }\n",
              "\n",
              "    .dataframe thead th {\n",
              "        text-align: right;\n",
              "    }\n",
              "</style>\n",
              "<table border=\"1\" class=\"dataframe\">\n",
              "  <thead>\n",
              "    <tr style=\"text-align: right;\">\n",
              "      <th></th>\n",
              "      <th>0</th>\n",
              "      <th>1</th>\n",
              "      <th>2</th>\n",
              "      <th>3</th>\n",
              "      <th>4</th>\n",
              "      <th>5</th>\n",
              "      <th>6</th>\n",
              "      <th>7</th>\n",
              "      <th>8</th>\n",
              "      <th>9</th>\n",
              "      <th>...</th>\n",
              "      <th>121</th>\n",
              "      <th>122</th>\n",
              "      <th>123</th>\n",
              "      <th>124</th>\n",
              "      <th>125</th>\n",
              "      <th>126</th>\n",
              "      <th>127</th>\n",
              "      <th>128</th>\n",
              "      <th>129</th>\n",
              "      <th>130</th>\n",
              "    </tr>\n",
              "  </thead>\n",
              "  <tbody>\n",
              "    <tr>\n",
              "      <th>0</th>\n",
              "      <td>0.228714</td>\n",
              "      <td>0.068355</td>\n",
              "      <td>-0.126285</td>\n",
              "      <td>0.413165</td>\n",
              "      <td>0.030908</td>\n",
              "      <td>-0.552076</td>\n",
              "      <td>-0.314409</td>\n",
              "      <td>0.311720</td>\n",
              "      <td>-0.238841</td>\n",
              "      <td>-0.057159</td>\n",
              "      <td>...</td>\n",
              "      <td>0.161303</td>\n",
              "      <td>-0.481682</td>\n",
              "      <td>0.674604</td>\n",
              "      <td>-0.398910</td>\n",
              "      <td>0.010172</td>\n",
              "      <td>-0.185839</td>\n",
              "      <td>-0.045171</td>\n",
              "      <td>125.797090</td>\n",
              "      <td>6.233123</td>\n",
              "      <td>73.366826</td>\n",
              "    </tr>\n",
              "    <tr>\n",
              "      <th>1</th>\n",
              "      <td>-0.609610</td>\n",
              "      <td>-1.374051</td>\n",
              "      <td>1.271163</td>\n",
              "      <td>0.517855</td>\n",
              "      <td>0.471138</td>\n",
              "      <td>-0.873043</td>\n",
              "      <td>-0.907810</td>\n",
              "      <td>0.674005</td>\n",
              "      <td>0.450675</td>\n",
              "      <td>-0.031597</td>\n",
              "      <td>...</td>\n",
              "      <td>-0.923188</td>\n",
              "      <td>-0.921229</td>\n",
              "      <td>0.054083</td>\n",
              "      <td>1.050814</td>\n",
              "      <td>1.410505</td>\n",
              "      <td>-0.538887</td>\n",
              "      <td>-0.063402</td>\n",
              "      <td>11.079486</td>\n",
              "      <td>3.374657</td>\n",
              "      <td>19.022023</td>\n",
              "    </tr>\n",
              "    <tr>\n",
              "      <th>2</th>\n",
              "      <td>0.245307</td>\n",
              "      <td>-0.001545</td>\n",
              "      <td>-1.190239</td>\n",
              "      <td>0.925788</td>\n",
              "      <td>-0.147823</td>\n",
              "      <td>-1.813772</td>\n",
              "      <td>0.664494</td>\n",
              "      <td>-1.373967</td>\n",
              "      <td>-1.348548</td>\n",
              "      <td>2.168353</td>\n",
              "      <td>...</td>\n",
              "      <td>-0.690776</td>\n",
              "      <td>0.470083</td>\n",
              "      <td>1.294294</td>\n",
              "      <td>0.344891</td>\n",
              "      <td>-0.605034</td>\n",
              "      <td>-0.686893</td>\n",
              "      <td>-1.426076</td>\n",
              "      <td>9.441672</td>\n",
              "      <td>3.556675</td>\n",
              "      <td>15.544751</td>\n",
              "    </tr>\n",
              "    <tr>\n",
              "      <th>3</th>\n",
              "      <td>1.730479</td>\n",
              "      <td>-2.421443</td>\n",
              "      <td>-3.049629</td>\n",
              "      <td>-0.564890</td>\n",
              "      <td>-1.862584</td>\n",
              "      <td>-1.827354</td>\n",
              "      <td>-0.552829</td>\n",
              "      <td>0.050562</td>\n",
              "      <td>0.495139</td>\n",
              "      <td>0.007179</td>\n",
              "      <td>...</td>\n",
              "      <td>0.821738</td>\n",
              "      <td>-0.182847</td>\n",
              "      <td>-0.591001</td>\n",
              "      <td>0.705464</td>\n",
              "      <td>0.699766</td>\n",
              "      <td>0.738822</td>\n",
              "      <td>1.073110</td>\n",
              "      <td>18.445367</td>\n",
              "      <td>3.106165</td>\n",
              "      <td>18.908480</td>\n",
              "    </tr>\n",
              "    <tr>\n",
              "      <th>4</th>\n",
              "      <td>-0.036755</td>\n",
              "      <td>0.166352</td>\n",
              "      <td>-0.883846</td>\n",
              "      <td>-0.919911</td>\n",
              "      <td>-0.650941</td>\n",
              "      <td>-1.020929</td>\n",
              "      <td>0.122739</td>\n",
              "      <td>0.586151</td>\n",
              "      <td>-0.375286</td>\n",
              "      <td>0.906461</td>\n",
              "      <td>...</td>\n",
              "      <td>0.997723</td>\n",
              "      <td>0.878809</td>\n",
              "      <td>-0.768087</td>\n",
              "      <td>-0.618433</td>\n",
              "      <td>-0.907066</td>\n",
              "      <td>-0.940703</td>\n",
              "      <td>-0.451313</td>\n",
              "      <td>3.492299</td>\n",
              "      <td>3.185267</td>\n",
              "      <td>10.406903</td>\n",
              "    </tr>\n",
              "    <tr>\n",
              "      <th>...</th>\n",
              "      <td>...</td>\n",
              "      <td>...</td>\n",
              "      <td>...</td>\n",
              "      <td>...</td>\n",
              "      <td>...</td>\n",
              "      <td>...</td>\n",
              "      <td>...</td>\n",
              "      <td>...</td>\n",
              "      <td>...</td>\n",
              "      <td>...</td>\n",
              "      <td>...</td>\n",
              "      <td>...</td>\n",
              "      <td>...</td>\n",
              "      <td>...</td>\n",
              "      <td>...</td>\n",
              "      <td>...</td>\n",
              "      <td>...</td>\n",
              "      <td>...</td>\n",
              "      <td>...</td>\n",
              "      <td>...</td>\n",
              "      <td>...</td>\n",
              "    </tr>\n",
              "    <tr>\n",
              "      <th>17779</th>\n",
              "      <td>0.037119</td>\n",
              "      <td>-0.379595</td>\n",
              "      <td>-0.459617</td>\n",
              "      <td>0.508457</td>\n",
              "      <td>-0.307579</td>\n",
              "      <td>0.083638</td>\n",
              "      <td>0.133766</td>\n",
              "      <td>0.180998</td>\n",
              "      <td>-0.451886</td>\n",
              "      <td>0.162409</td>\n",
              "      <td>...</td>\n",
              "      <td>0.539555</td>\n",
              "      <td>-0.052350</td>\n",
              "      <td>-0.219352</td>\n",
              "      <td>0.236992</td>\n",
              "      <td>0.283164</td>\n",
              "      <td>-0.490594</td>\n",
              "      <td>0.489912</td>\n",
              "      <td>-0.055826</td>\n",
              "      <td>-1.362938</td>\n",
              "      <td>-0.393931</td>\n",
              "    </tr>\n",
              "    <tr>\n",
              "      <th>17780</th>\n",
              "      <td>-0.006047</td>\n",
              "      <td>0.135095</td>\n",
              "      <td>0.308105</td>\n",
              "      <td>0.277003</td>\n",
              "      <td>0.012801</td>\n",
              "      <td>-0.121005</td>\n",
              "      <td>0.084494</td>\n",
              "      <td>0.217148</td>\n",
              "      <td>-0.287227</td>\n",
              "      <td>-0.062819</td>\n",
              "      <td>...</td>\n",
              "      <td>0.400192</td>\n",
              "      <td>-0.121686</td>\n",
              "      <td>0.520601</td>\n",
              "      <td>-0.117536</td>\n",
              "      <td>0.122840</td>\n",
              "      <td>-0.407608</td>\n",
              "      <td>0.455635</td>\n",
              "      <td>-0.055826</td>\n",
              "      <td>-1.285545</td>\n",
              "      <td>-0.393931</td>\n",
              "    </tr>\n",
              "    <tr>\n",
              "      <th>17781</th>\n",
              "      <td>-0.221036</td>\n",
              "      <td>0.010919</td>\n",
              "      <td>0.024499</td>\n",
              "      <td>0.116169</td>\n",
              "      <td>0.237253</td>\n",
              "      <td>-0.211727</td>\n",
              "      <td>-0.137853</td>\n",
              "      <td>0.310252</td>\n",
              "      <td>-0.107400</td>\n",
              "      <td>-0.024500</td>\n",
              "      <td>...</td>\n",
              "      <td>0.097793</td>\n",
              "      <td>-0.249102</td>\n",
              "      <td>-0.038975</td>\n",
              "      <td>0.065587</td>\n",
              "      <td>0.300322</td>\n",
              "      <td>-0.316880</td>\n",
              "      <td>0.177884</td>\n",
              "      <td>-0.055826</td>\n",
              "      <td>-0.846446</td>\n",
              "      <td>-0.393931</td>\n",
              "    </tr>\n",
              "    <tr>\n",
              "      <th>17782</th>\n",
              "      <td>-0.310420</td>\n",
              "      <td>-0.057472</td>\n",
              "      <td>0.209935</td>\n",
              "      <td>0.129229</td>\n",
              "      <td>-0.051230</td>\n",
              "      <td>-0.149077</td>\n",
              "      <td>-0.137386</td>\n",
              "      <td>0.383638</td>\n",
              "      <td>-0.469226</td>\n",
              "      <td>-0.087323</td>\n",
              "      <td>...</td>\n",
              "      <td>0.165274</td>\n",
              "      <td>-0.015845</td>\n",
              "      <td>-0.089696</td>\n",
              "      <td>-0.312024</td>\n",
              "      <td>0.076625</td>\n",
              "      <td>-0.172158</td>\n",
              "      <td>0.091211</td>\n",
              "      <td>-0.055826</td>\n",
              "      <td>-1.753166</td>\n",
              "      <td>-0.393931</td>\n",
              "    </tr>\n",
              "    <tr>\n",
              "      <th>17783</th>\n",
              "      <td>-0.359866</td>\n",
              "      <td>0.034299</td>\n",
              "      <td>0.199277</td>\n",
              "      <td>0.388309</td>\n",
              "      <td>0.185659</td>\n",
              "      <td>-0.374608</td>\n",
              "      <td>-0.236326</td>\n",
              "      <td>0.048011</td>\n",
              "      <td>-0.444515</td>\n",
              "      <td>0.192313</td>\n",
              "      <td>...</td>\n",
              "      <td>0.005536</td>\n",
              "      <td>0.059797</td>\n",
              "      <td>-0.076490</td>\n",
              "      <td>0.220699</td>\n",
              "      <td>0.286616</td>\n",
              "      <td>-0.691111</td>\n",
              "      <td>-0.125003</td>\n",
              "      <td>-0.055826</td>\n",
              "      <td>-1.598716</td>\n",
              "      <td>-0.393931</td>\n",
              "    </tr>\n",
              "  </tbody>\n",
              "</table>\n",
              "<p>17784 rows × 131 columns</p>\n",
              "</div>"
            ],
            "text/plain": [
              "            0         1         2         3         4         5         6    \\\n",
              "0      0.228714  0.068355 -0.126285  0.413165  0.030908 -0.552076 -0.314409   \n",
              "1     -0.609610 -1.374051  1.271163  0.517855  0.471138 -0.873043 -0.907810   \n",
              "2      0.245307 -0.001545 -1.190239  0.925788 -0.147823 -1.813772  0.664494   \n",
              "3      1.730479 -2.421443 -3.049629 -0.564890 -1.862584 -1.827354 -0.552829   \n",
              "4     -0.036755  0.166352 -0.883846 -0.919911 -0.650941 -1.020929  0.122739   \n",
              "...         ...       ...       ...       ...       ...       ...       ...   \n",
              "17779  0.037119 -0.379595 -0.459617  0.508457 -0.307579  0.083638  0.133766   \n",
              "17780 -0.006047  0.135095  0.308105  0.277003  0.012801 -0.121005  0.084494   \n",
              "17781 -0.221036  0.010919  0.024499  0.116169  0.237253 -0.211727 -0.137853   \n",
              "17782 -0.310420 -0.057472  0.209935  0.129229 -0.051230 -0.149077 -0.137386   \n",
              "17783 -0.359866  0.034299  0.199277  0.388309  0.185659 -0.374608 -0.236326   \n",
              "\n",
              "            7         8         9    ...       121       122       123  \\\n",
              "0      0.311720 -0.238841 -0.057159  ...  0.161303 -0.481682  0.674604   \n",
              "1      0.674005  0.450675 -0.031597  ... -0.923188 -0.921229  0.054083   \n",
              "2     -1.373967 -1.348548  2.168353  ... -0.690776  0.470083  1.294294   \n",
              "3      0.050562  0.495139  0.007179  ...  0.821738 -0.182847 -0.591001   \n",
              "4      0.586151 -0.375286  0.906461  ...  0.997723  0.878809 -0.768087   \n",
              "...         ...       ...       ...  ...       ...       ...       ...   \n",
              "17779  0.180998 -0.451886  0.162409  ...  0.539555 -0.052350 -0.219352   \n",
              "17780  0.217148 -0.287227 -0.062819  ...  0.400192 -0.121686  0.520601   \n",
              "17781  0.310252 -0.107400 -0.024500  ...  0.097793 -0.249102 -0.038975   \n",
              "17782  0.383638 -0.469226 -0.087323  ...  0.165274 -0.015845 -0.089696   \n",
              "17783  0.048011 -0.444515  0.192313  ...  0.005536  0.059797 -0.076490   \n",
              "\n",
              "            124       125       126       127         128       129        130  \n",
              "0     -0.398910  0.010172 -0.185839 -0.045171  125.797090  6.233123  73.366826  \n",
              "1      1.050814  1.410505 -0.538887 -0.063402   11.079486  3.374657  19.022023  \n",
              "2      0.344891 -0.605034 -0.686893 -1.426076    9.441672  3.556675  15.544751  \n",
              "3      0.705464  0.699766  0.738822  1.073110   18.445367  3.106165  18.908480  \n",
              "4     -0.618433 -0.907066 -0.940703 -0.451313    3.492299  3.185267  10.406903  \n",
              "...         ...       ...       ...       ...         ...       ...        ...  \n",
              "17779  0.236992  0.283164 -0.490594  0.489912   -0.055826 -1.362938  -0.393931  \n",
              "17780 -0.117536  0.122840 -0.407608  0.455635   -0.055826 -1.285545  -0.393931  \n",
              "17781  0.065587  0.300322 -0.316880  0.177884   -0.055826 -0.846446  -0.393931  \n",
              "17782 -0.312024  0.076625 -0.172158  0.091211   -0.055826 -1.753166  -0.393931  \n",
              "17783  0.220699  0.286616 -0.691111 -0.125003   -0.055826 -1.598716  -0.393931  \n",
              "\n",
              "[17784 rows x 131 columns]"
            ]
          },
          "execution_count": 39,
          "metadata": {},
          "output_type": "execute_result"
        }
      ],
      "source": [
        "X3 = X2.copy()\n",
        "X3 = pd.DataFrame(X3)\n",
        "X3 = X3.reset_index(drop=True) \n",
        "X3"
      ]
    },
    {
      "cell_type": "code",
      "execution_count": null,
      "id": "aaa172a1",
      "metadata": {
        "id": "aaa172a1"
      },
      "outputs": [],
      "source": [
        "from pulearn import BaggingPuClassifier\n",
        "from sklearn.ensemble import RandomForestClassifier\n",
        "from sklearn.linear_model import LogisticRegression\n",
        "from sklearn.tree import DecisionTreeClassifier\n",
        "pu_estimator_d3 = BaggingPuClassifier(\n",
        "    base_estimator= DecisionTreeClassifier(), \n",
        "    #RandomForestClassifier(n_estimators=1000, bootstrap= 1000),#\n",
        "    n_estimators = 10000,  # 10000 trees as usual\n",
        "    max_samples = sum(y), # Balance the positives and unlabeled in each bag\n",
        "    n_jobs = -1,           # Use all cores\n",
        "    bootstrap=True\n",
        ")"
      ]
    },
    {
      "cell_type": "code",
      "execution_count": null,
      "id": "2c38d9e1",
      "metadata": {
        "id": "2c38d9e1",
        "outputId": "d90262ea-1cc8-4b00-b2fa-1166e0cf4cf1"
      },
      "outputs": [
        {
          "data": {
            "text/html": [
              "<style>#sk-container-id-4 {color: black;background-color: white;}#sk-container-id-4 pre{padding: 0;}#sk-container-id-4 div.sk-toggleable {background-color: white;}#sk-container-id-4 label.sk-toggleable__label {cursor: pointer;display: block;width: 100%;margin-bottom: 0;padding: 0.3em;box-sizing: border-box;text-align: center;}#sk-container-id-4 label.sk-toggleable__label-arrow:before {content: \"▸\";float: left;margin-right: 0.25em;color: #696969;}#sk-container-id-4 label.sk-toggleable__label-arrow:hover:before {color: black;}#sk-container-id-4 div.sk-estimator:hover label.sk-toggleable__label-arrow:before {color: black;}#sk-container-id-4 div.sk-toggleable__content {max-height: 0;max-width: 0;overflow: hidden;text-align: left;background-color: #f0f8ff;}#sk-container-id-4 div.sk-toggleable__content pre {margin: 0.2em;color: black;border-radius: 0.25em;background-color: #f0f8ff;}#sk-container-id-4 input.sk-toggleable__control:checked~div.sk-toggleable__content {max-height: 200px;max-width: 100%;overflow: auto;}#sk-container-id-4 input.sk-toggleable__control:checked~label.sk-toggleable__label-arrow:before {content: \"▾\";}#sk-container-id-4 div.sk-estimator input.sk-toggleable__control:checked~label.sk-toggleable__label {background-color: #d4ebff;}#sk-container-id-4 div.sk-label input.sk-toggleable__control:checked~label.sk-toggleable__label {background-color: #d4ebff;}#sk-container-id-4 input.sk-hidden--visually {border: 0;clip: rect(1px 1px 1px 1px);clip: rect(1px, 1px, 1px, 1px);height: 1px;margin: -1px;overflow: hidden;padding: 0;position: absolute;width: 1px;}#sk-container-id-4 div.sk-estimator {font-family: monospace;background-color: #f0f8ff;border: 1px dotted black;border-radius: 0.25em;box-sizing: border-box;margin-bottom: 0.5em;}#sk-container-id-4 div.sk-estimator:hover {background-color: #d4ebff;}#sk-container-id-4 div.sk-parallel-item::after {content: \"\";width: 100%;border-bottom: 1px solid gray;flex-grow: 1;}#sk-container-id-4 div.sk-label:hover label.sk-toggleable__label {background-color: #d4ebff;}#sk-container-id-4 div.sk-serial::before {content: \"\";position: absolute;border-left: 1px solid gray;box-sizing: border-box;top: 0;bottom: 0;left: 50%;z-index: 0;}#sk-container-id-4 div.sk-serial {display: flex;flex-direction: column;align-items: center;background-color: white;padding-right: 0.2em;padding-left: 0.2em;position: relative;}#sk-container-id-4 div.sk-item {position: relative;z-index: 1;}#sk-container-id-4 div.sk-parallel {display: flex;align-items: stretch;justify-content: center;background-color: white;position: relative;}#sk-container-id-4 div.sk-item::before, #sk-container-id-4 div.sk-parallel-item::before {content: \"\";position: absolute;border-left: 1px solid gray;box-sizing: border-box;top: 0;bottom: 0;left: 50%;z-index: -1;}#sk-container-id-4 div.sk-parallel-item {display: flex;flex-direction: column;z-index: 1;position: relative;background-color: white;}#sk-container-id-4 div.sk-parallel-item:first-child::after {align-self: flex-end;width: 50%;}#sk-container-id-4 div.sk-parallel-item:last-child::after {align-self: flex-start;width: 50%;}#sk-container-id-4 div.sk-parallel-item:only-child::after {width: 0;}#sk-container-id-4 div.sk-dashed-wrapped {border: 1px dashed gray;margin: 0 0.4em 0.5em 0.4em;box-sizing: border-box;padding-bottom: 0.4em;background-color: white;}#sk-container-id-4 div.sk-label label {font-family: monospace;font-weight: bold;display: inline-block;line-height: 1.2em;}#sk-container-id-4 div.sk-label-container {text-align: center;}#sk-container-id-4 div.sk-container {/* jupyter's `normalize.less` sets `[hidden] { display: none; }` but bootstrap.min.css set `[hidden] { display: none !important; }` so we also need the `!important` here to be able to override the default hidden behavior on the sphinx rendered scikit-learn.org. See: https://github.com/scikit-learn/scikit-learn/issues/21755 */display: inline-block !important;position: relative;}#sk-container-id-4 div.sk-text-repr-fallback {display: none;}</style><div id=\"sk-container-id-4\" class=\"sk-top-container\"><div class=\"sk-text-repr-fallback\"><pre>BaggingPuClassifier(base_estimator=DecisionTreeClassifier(), max_samples=85,\n",
              "                    n_estimators=10000, n_jobs=-1)</pre><b>In a Jupyter environment, please rerun this cell to show the HTML representation or trust the notebook. <br />On GitHub, the HTML representation is unable to render, please try loading this page with nbviewer.org.</b></div><div class=\"sk-container\" hidden><div class=\"sk-item sk-dashed-wrapped\"><div class=\"sk-label-container\"><div class=\"sk-label sk-toggleable\"><input class=\"sk-toggleable__control sk-hidden--visually\" id=\"sk-estimator-id-10\" type=\"checkbox\" ><label for=\"sk-estimator-id-10\" class=\"sk-toggleable__label sk-toggleable__label-arrow\">BaggingPuClassifier</label><div class=\"sk-toggleable__content\"><pre>BaggingPuClassifier(base_estimator=DecisionTreeClassifier(), max_samples=85,\n",
              "                    n_estimators=10000, n_jobs=-1)</pre></div></div></div><div class=\"sk-parallel\"><div class=\"sk-parallel-item\"><div class=\"sk-item\"><div class=\"sk-label-container\"><div class=\"sk-label sk-toggleable\"><input class=\"sk-toggleable__control sk-hidden--visually\" id=\"sk-estimator-id-11\" type=\"checkbox\" ><label for=\"sk-estimator-id-11\" class=\"sk-toggleable__label sk-toggleable__label-arrow\">base_estimator: DecisionTreeClassifier</label><div class=\"sk-toggleable__content\"><pre>DecisionTreeClassifier()</pre></div></div></div><div class=\"sk-serial\"><div class=\"sk-item\"><div class=\"sk-estimator sk-toggleable\"><input class=\"sk-toggleable__control sk-hidden--visually\" id=\"sk-estimator-id-12\" type=\"checkbox\" ><label for=\"sk-estimator-id-12\" class=\"sk-toggleable__label sk-toggleable__label-arrow\">DecisionTreeClassifier</label><div class=\"sk-toggleable__content\"><pre>DecisionTreeClassifier()</pre></div></div></div></div></div></div></div></div></div></div>"
            ],
            "text/plain": [
              "BaggingPuClassifier(base_estimator=DecisionTreeClassifier(), max_samples=85,\n",
              "                    n_estimators=10000, n_jobs=-1)"
            ]
          },
          "execution_count": 42,
          "metadata": {},
          "output_type": "execute_result"
        }
      ],
      "source": [
        "pu_estimator_d3.fit(X3, y)"
      ]
    },
    {
      "cell_type": "code",
      "execution_count": null,
      "id": "92247d03",
      "metadata": {
        "id": "92247d03",
        "outputId": "1c058acd-b148-470e-df30-51989a7aa750"
      },
      "outputs": [
        {
          "name": "stdout",
          "output_type": "stream",
          "text": [
            "[9.269e-01 1.000e+00 8.176e-01 ... 0.000e+00 4.000e-04 2.000e-04]\n"
          ]
        }
      ],
      "source": [
        "#https://roywrightme.wordpress.com/2017/11/16/positive-unlabeled-learning/\n",
        "ys = 2 * y - 1\n",
        "prob_d3 = pu_estimator_d3.predict_proba(X3)[:,1]\n",
        "print(prob_d3)"
      ]
    },
    {
      "cell_type": "code",
      "execution_count": null,
      "id": "80a75747",
      "metadata": {
        "id": "80a75747"
      },
      "outputs": [],
      "source": [
        "range_P = [min(prob_d3 * (ys > 0)), max(prob_d3 * (ys > 0))]"
      ]
    },
    {
      "cell_type": "code",
      "execution_count": null,
      "id": "cd6f12e7",
      "metadata": {
        "id": "cd6f12e7"
      },
      "outputs": [],
      "source": [
        "iP_new = ys[(ys < 0) & (prob_d3 >= range_P[1])].index\n",
        "iN_new = ys[(ys < 0) & (prob_d3 <= range_P[0])].index\n",
        "ys.loc[iP_new] = 1\n",
        "ys.loc[iN_new] = 0"
      ]
    },
    {
      "cell_type": "code",
      "execution_count": null,
      "id": "50540bca",
      "metadata": {
        "id": "50540bca"
      },
      "outputs": [],
      "source": [
        "rf2 = DecisionTreeClassifier()\n",
        "#RandomForestClassifier(n_estimators = 1000, n_jobs = -1)\n"
      ]
    },
    {
      "cell_type": "code",
      "execution_count": null,
      "id": "d13e6c4e",
      "metadata": {
        "id": "d13e6c4e",
        "outputId": "bb905b7e-c0ff-462d-b693-885476b61dd9"
      },
      "outputs": [
        {
          "name": "stdout",
          "output_type": "stream",
          "text": [
            "Step 1 labeled 0 new positives and 149 new negatives.\n",
            "Doing step 2... Step 1 labeled 0 new positives and 17550 new negatives.\n",
            "Doing step 2... "
          ]
        }
      ],
      "source": [
        "for i in range(20):\n",
        "    # If step 1 didn't find new labels, we're done\n",
        "    if len(iP_new) + len(iN_new) == 0 and i > 0:\n",
        "        break\n",
        "    print(\n",
        "        'Step 1 labeled %d new positives and %d new negatives.'\n",
        "         % (len(iP_new), len(iN_new))\n",
        "    )\n",
        "    print('Doing step 2... ', end = '')\n",
        "\n",
        "    # Retrain on new labels and get new scores\n",
        "    rf2.fit(X3, ys)\n",
        "    pred33 = rf2.predict_proba(X3)[:,-1]\n",
        "\n",
        "    # Find the range of scores given to positive data points\n",
        "    range_P = [min(pred33 * (ys > 0)), max(pred33 * (ys > 0))]\n",
        "\n",
        "    # Repeat step 1\n",
        "    iP_new = ys[(ys < 0) & (pred33 >= range_P[1])].index\n",
        "    iN_new = ys[(ys < 0) & (pred33 <= range_P[0])].index\n",
        "    ys.loc[iP_new] = 1\n",
        "    ys.loc[iN_new] = 0"
      ]
    },
    {
      "cell_type": "code",
      "execution_count": null,
      "id": "0277eb82",
      "metadata": {
        "id": "0277eb82",
        "outputId": "b20cd442-9b85-4a9e-b99b-d768922823df"
      },
      "outputs": [
        {
          "name": "stdout",
          "output_type": "stream",
          "text": [
            "       Colorrectal  output_stp\n",
            "0                0         0.0\n",
            "1                1         1.0\n",
            "2                0         0.0\n",
            "3                0         0.0\n",
            "4                1         1.0\n",
            "...            ...         ...\n",
            "17779            0         0.0\n",
            "17780            0         0.0\n",
            "17781            0         0.0\n",
            "17782            0         0.0\n",
            "17783            0         0.0\n",
            "\n",
            "[17784 rows x 2 columns]\n"
          ]
        }
      ],
      "source": [
        "results = y.copy()\n",
        "results=pd.DataFrame(results)\n",
        "results['output_stp'] = pred33\n",
        "\n",
        "print(results)\n"
      ]
    },
    {
      "cell_type": "code",
      "execution_count": null,
      "id": "938999eb",
      "metadata": {
        "id": "938999eb",
        "outputId": "03dfeb3a-d14b-47b7-9182-064bd8af9bf9"
      },
      "outputs": [
        {
          "data": {
            "text/plain": [
              "1.0"
            ]
          },
          "execution_count": 65,
          "metadata": {},
          "output_type": "execute_result"
        }
      ],
      "source": [
        "y_pred2step = rf2.predict(X3)\n",
        "rf2.score(X3, y)"
      ]
    },
    {
      "cell_type": "code",
      "execution_count": null,
      "id": "bdc42aee",
      "metadata": {
        "id": "bdc42aee",
        "outputId": "86b8d0d7-adb4-4a0e-fbb5-fd5e94bd251c"
      },
      "outputs": [
        {
          "name": "stdout",
          "output_type": "stream",
          "text": [
            "              precision    recall  f1-score   support\n",
            "\n",
            "           0       1.00      1.00      1.00     17699\n",
            "           1       1.00      1.00      1.00        85\n",
            "\n",
            "    accuracy                           1.00     17784\n",
            "   macro avg       1.00      1.00      1.00     17784\n",
            "weighted avg       1.00      1.00      1.00     17784\n",
            "\n"
          ]
        }
      ],
      "source": [
        "#Calculo de las metricas Precision, Recall, F1-score \n",
        "from sklearn.metrics import classification_report\n",
        "print(classification_report(y,y_pred2step))"
      ]
    },
    {
      "cell_type": "markdown",
      "id": "cd8ee0df",
      "metadata": {
        "id": "cd8ee0df"
      },
      "source": [
        "https://github.com/AaronWard/PU-learning-example/blob/master/pu-learner.ipynb"
      ]
    },
    {
      "cell_type": "code",
      "execution_count": null,
      "id": "1de5d622",
      "metadata": {
        "id": "1de5d622"
      },
      "outputs": [],
      "source": [
        "#\n",
        "# https://gist.github.com/zachguo/10296432\n",
        "#\n",
        "def print_cm(cm, labels, hide_zeroes=False, hide_diagonal=False, hide_threshold=None):\n",
        "    \"\"\"pretty print for confusion matrixes\"\"\"\n",
        "    columnwidth = max([len(x) for x in labels]) + 4\n",
        "    empty_cell = \" \" * columnwidth\n",
        "    print(\"    \" + empty_cell, end=' ')\n",
        "    for label in labels:\n",
        "        print(\"%{0}s\".format(columnwidth) % 'pred_' + label, end=\" \")\n",
        "    print()\n",
        "\n",
        "    # Print rows\n",
        "    for i, label1 in enumerate(labels):\n",
        "        print(\"    %{0}s\".format(columnwidth) % 'true_' + label1, end=\" \")\n",
        "        for j in range(len(labels)):\n",
        "            cell = \"%{0}.1f\".format(columnwidth) % cm[i, j]\n",
        "            if hide_zeroes:\n",
        "                cell = cell if float(cm[i, j]) != 0 else empty_cell\n",
        "            if hide_diagonal:\n",
        "                cell = cell if i != j else empty_cell\n",
        "            if hide_threshold:\n",
        "                cell = cell if cm[i, j] > hide_threshold else empty_cell\n",
        "            if cell:\n",
        "                print(cell, end=\" \")\n",
        "        print()\n",
        "        \n",
        "from sklearn.metrics import confusion_matrix"
      ]
    },
    {
      "cell_type": "code",
      "execution_count": null,
      "id": "4c13f7f3",
      "metadata": {
        "id": "4c13f7f3",
        "outputId": "b3efc278-2a9b-40de-94fc-154f863ab0c6"
      },
      "outputs": [
        {
          "name": "stdout",
          "output_type": "stream",
          "text": [
            "---- PU Bagging ----\n",
            "                        pred_negative        pred_positive \n",
            "           true_negative      13627.0       4072.0 \n",
            "           true_positive          0.0         85.0 \n",
            "None\n",
            "\n",
            "Precision:  0.020447438056290596\n",
            "Recall:  1.0\n",
            "Accuracy:  0.771030139451192\n"
          ]
        }
      ],
      "source": [
        "from sklearn.metrics import accuracy_score, precision_score, recall_score, f1_score\n",
        "\n",
        "print('---- {} ----'.format('PU Bagging'))\n",
        "print(print_cm(confusion_matrix(y, pu_estimator_d3.predict(X3)), labels=['negative', 'positive']))\n",
        "print('')\n",
        "print('Precision: ', precision_score(y, pu_estimator_d3.predict(X3)))\n",
        "print('Recall: ', recall_score(y, pu_estimator_d3.predict(X3)))\n",
        "print('Accuracy: ', accuracy_score(y, pu_estimator_d3.predict(X3)))"
      ]
    },
    {
      "cell_type": "code",
      "execution_count": null,
      "id": "e74d3f74",
      "metadata": {
        "id": "e74d3f74",
        "outputId": "c0bd7533-0cef-498d-9116-9e4b07f22c5a"
      },
      "outputs": [
        {
          "name": "stdout",
          "output_type": "stream",
          "text": [
            "---- TSA ----\n",
            "                        pred_negative        pred_positive \n",
            "           true_negative      17699.0          0.0 \n",
            "           true_positive          0.0         85.0 \n",
            "None\n",
            "\n",
            "Precision:  1.0\n",
            "Recall:  1.0\n",
            "Accuracy:  1.0\n"
          ]
        }
      ],
      "source": [
        "from sklearn.metrics import accuracy_score, precision_score, recall_score, f1_score\n",
        "print('---- {} ----'.format('TSA'))\n",
        "y_hat_val = rf2.predict(X3)\n",
        "y_hat_val = [x if ((x==0) or (x==1)) else 0 for x in y_hat_val]\n",
        "print(print_cm(confusion_matrix(y, y_hat_val), labels=['negative', 'positive']))\n",
        "print('')\n",
        "print('Precision: ', precision_score(y, y_hat_val))\n",
        "print('Recall: ',    recall_score(y, y_hat_val))\n",
        "print('Accuracy: ',  accuracy_score(y, y_hat_val))"
      ]
    },
    {
      "cell_type": "code",
      "execution_count": null,
      "id": "f3a40226",
      "metadata": {
        "id": "f3a40226",
        "outputId": "5dc20b39-4cf9-4a78-92c9-7d6e0a92c09b"
      },
      "outputs": [
        {
          "name": "stdout",
          "output_type": "stream",
          "text": [
            "              precision    recall  f1-score   support\n",
            "\n",
            "           0       1.00      0.77      0.87     17699\n",
            "           1       0.02      1.00      0.04        85\n",
            "\n",
            "    accuracy                           0.77     17784\n",
            "   macro avg       0.51      0.88      0.46     17784\n",
            "weighted avg       1.00      0.77      0.87     17784\n",
            "\n"
          ]
        }
      ],
      "source": [
        "print(classification_report(y,pu_estimator_d3.predict(X3)))"
      ]
    },
    {
      "cell_type": "code",
      "execution_count": null,
      "id": "327e0ba4",
      "metadata": {
        "id": "327e0ba4",
        "outputId": "644a42bb-2ce7-4cbe-9f31-48ead89262c9"
      },
      "outputs": [
        {
          "name": "stdout",
          "output_type": "stream",
          "text": [
            "              precision    recall  f1-score   support\n",
            "\n",
            "           0       1.00      1.00      1.00     17699\n",
            "           1       1.00      1.00      1.00        85\n",
            "\n",
            "    accuracy                           1.00     17784\n",
            "   macro avg       1.00      1.00      1.00     17784\n",
            "weighted avg       1.00      1.00      1.00     17784\n",
            "\n"
          ]
        }
      ],
      "source": [
        "print(classification_report(y,y_hat_val))"
      ]
    },
    {
      "cell_type": "code",
      "execution_count": null,
      "id": "e2799fff",
      "metadata": {
        "id": "e2799fff"
      },
      "outputs": [],
      "source": [
        "results['y_pred2step'] = y_pred2step"
      ]
    },
    {
      "cell_type": "code",
      "execution_count": null,
      "id": "71533558",
      "metadata": {
        "id": "71533558"
      },
      "outputs": [],
      "source": [
        "results.to_csv(\"out.csv\")"
      ]
    },
    {
      "cell_type": "code",
      "execution_count": null,
      "id": "d183097d",
      "metadata": {
        "id": "d183097d",
        "outputId": "7072a282-e643-47e3-f6cb-e9ddfb16bc78"
      },
      "outputs": [
        {
          "name": "stdout",
          "output_type": "stream",
          "text": [
            "[0. 0. 0. ... 0. 0. 0.]\n"
          ]
        }
      ],
      "source": [
        "print(pred33)"
      ]
    },
    {
      "cell_type": "code",
      "execution_count": null,
      "id": "6511d4fb",
      "metadata": {
        "id": "6511d4fb",
        "outputId": "324dc4c1-ef3b-4fc2-870e-56f30934a598"
      },
      "outputs": [
        {
          "name": "stdout",
          "output_type": "stream",
          "text": [
            "[0. 1. 0. ... 0. 0. 0.]\n"
          ]
        },
        {
          "data": {
            "text/plain": [
              "85.0"
            ]
          },
          "execution_count": 74,
          "metadata": {},
          "output_type": "execute_result"
        }
      ],
      "source": [
        "pred33a = pred33.copy()\n",
        "for i in range(len(pred33a)):\n",
        "  \n",
        "    # replace hardik with shardul\n",
        "    if pred33a[i] >=.9:\n",
        "        pred33a[i] = 1\n",
        "    elif pred33a[i] <.9:\n",
        "        pred33a[i] = 0\n",
        "print(pred33a)\n",
        "sum(pred33a)"
      ]
    },
    {
      "cell_type": "code",
      "execution_count": null,
      "id": "092d7a91",
      "metadata": {
        "id": "092d7a91"
      },
      "outputs": [],
      "source": [
        "import pandas as pd\n",
        "df = pd.DataFrame(pred33a) \n",
        "    \n",
        "# saving the dataframe \n",
        "df.to_csv('twosteps.csv') "
      ]
    }
  ],
  "metadata": {
    "kernelspec": {
      "display_name": "Python 3 (ipykernel)",
      "language": "python",
      "name": "python3"
    },
    "language_info": {
      "codemirror_mode": {
        "name": "ipython",
        "version": 3
      },
      "file_extension": ".py",
      "mimetype": "text/x-python",
      "name": "python",
      "nbconvert_exporter": "python",
      "pygments_lexer": "ipython3",
      "version": "3.8.5"
    },
    "colab": {
      "name": "test_pulearn_2_LOCAL.ipynb",
      "provenance": []
    }
  },
  "nbformat": 4,
  "nbformat_minor": 5
}